{
 "cells": [
  {
   "cell_type": "code",
   "execution_count": 1,
   "metadata": {
    "colab": {
     "base_uri": "https://localhost:8080/"
    },
    "id": "Qk5sVA-naeiu",
    "outputId": "9e953b92-88c8-41c3-8a1e-e069f13fd9af"
   },
   "outputs": [
    {
     "name": "stdout",
     "output_type": "stream",
     "text": [
      "Drive already mounted at /content/drive; to attempt to forcibly remount, call drive.mount(\"/content/drive\", force_remount=True).\n"
     ]
    }
   ],
   "source": [
    "from google.colab import drive\n",
    "drive.mount('/content/drive')"
   ]
  },
  {
   "cell_type": "code",
   "execution_count": 2,
   "metadata": {
    "colab": {
     "base_uri": "https://localhost:8080/"
    },
    "id": "lL0Zi0bKalyi",
    "outputId": "6c7f6b40-eb91-4440-8c63-830d00bfa923"
   },
   "outputs": [
    {
     "name": "stdout",
     "output_type": "stream",
     "text": [
      "root\n",
      " |-- Airline: string (nullable = true)\n",
      " |-- Origin: string (nullable = true)\n",
      " |-- Dest: string (nullable = true)\n",
      " |-- Cancelled: boolean (nullable = true)\n",
      " |-- Diverted: boolean (nullable = true)\n",
      " |-- CRSDepTime: integer (nullable = true)\n",
      " |-- DepTime: double (nullable = true)\n",
      " |-- DepDelayMinutes: double (nullable = true)\n",
      " |-- DepDelay: double (nullable = true)\n",
      " |-- Month: integer (nullable = true)\n",
      " |-- DayOfWeek: integer (nullable = true)\n",
      " |-- DepDel15: double (nullable = true)\n",
      " |-- delayed: integer (nullable = true)\n",
      "\n",
      "+--------------------+------+----+---------+--------+----------+-------+---------------+--------+-----+---------+--------+-------+\n",
      "|             Airline|Origin|Dest|Cancelled|Diverted|CRSDepTime|DepTime|DepDelayMinutes|DepDelay|Month|DayOfWeek|DepDel15|delayed|\n",
      "+--------------------+------+----+---------+--------+----------+-------+---------------+--------+-----+---------+--------+-------+\n",
      "|Commutair Aka Cha...|   GJT| DEN|    false|   false|      1133| 1123.0|            0.0|   -10.0|    4|        1|     0.0|      0|\n",
      "|Commutair Aka Cha...|   HRL| IAH|    false|   false|       732|  728.0|            0.0|    -4.0|    4|        1|     0.0|      0|\n",
      "|Commutair Aka Cha...|   DRO| DEN|    false|   false|      1529| 1514.0|            0.0|   -15.0|    4|        1|     0.0|      0|\n",
      "|Commutair Aka Cha...|   IAH| GPT|    false|   false|      1435| 1430.0|            0.0|    -5.0|    4|        1|     0.0|      0|\n",
      "|Commutair Aka Cha...|   DRO| DEN|    false|   false|      1135| 1135.0|            0.0|     0.0|    4|        1|     0.0|      0|\n",
      "|Commutair Aka Cha...|   DEN| TUL|    false|   false|       955|  952.0|            0.0|    -3.0|    4|        1|     0.0|      0|\n",
      "|Commutair Aka Cha...|   IAH| LCH|    false|   false|      2139| 2136.0|            0.0|    -3.0|    4|        1|     0.0|      0|\n",
      "|Commutair Aka Cha...|   TYS| IAH|    false|   false|      1129| 1117.0|            0.0|   -12.0|    4|        1|     0.0|      0|\n",
      "|Commutair Aka Cha...|   IAH| AEX|    false|   false|      1424| 1414.0|            0.0|   -10.0|    4|        1|     0.0|      0|\n",
      "|Commutair Aka Cha...|   IAH| MOB|    false|   false|       954|  947.0|            0.0|    -7.0|    4|        1|     0.0|      0|\n",
      "+--------------------+------+----+---------+--------+----------+-------+---------------+--------+-----+---------+--------+-------+\n",
      "only showing top 10 rows\n",
      "\n",
      "Total number of rows: 4078318\n"
     ]
    }
   ],
   "source": [
    "from pyspark.sql import SparkSession\n",
    "\n",
    "# Start a Spark session \n",
    "spark = SparkSession.builder.appName(\"FlightDelayPrediction\").getOrCreate()\n",
    "\n",
    "# Load the flight delay dataset from a CSV file, including headers and inferring data types\n",
    "df = spark.read.csv(\"/content/drive/MyDrive/flight_data_with_delay.csv\", header=True, inferSchema=True)\n",
    "\n",
    "# Print the structure and data types of each column in the dataset\n",
    "df.printSchema()\n",
    "\n",
    "# Display the first 10 rows of data to get an initial view of the dataset\n",
    "df.show(10)\n",
    "\n",
    "# Calculate and print the total number of rows in the dataset\n",
    "total_rows = df.count()\n",
    "print(f\"Total number of rows: {total_rows}\")\n"
   ]
  },
  {
   "cell_type": "code",
   "execution_count": 4,
   "metadata": {
    "colab": {
     "base_uri": "https://localhost:8080/"
    },
    "id": "6FIu2EPBa7du",
    "outputId": "d5b154f8-57f3-4c37-91d6-b1429b07f8c4"
   },
   "outputs": [
    {
     "name": "stdout",
     "output_type": "stream",
     "text": [
      "+-------+------+----+---------+--------+----------+-------+---------------+--------+-----+---------+--------+-------+\n",
      "|Airline|Origin|Dest|Cancelled|Diverted|CRSDepTime|DepTime|DepDelayMinutes|DepDelay|Month|DayOfWeek|DepDel15|delayed|\n",
      "+-------+------+----+---------+--------+----------+-------+---------------+--------+-----+---------+--------+-------+\n",
      "|      0|     0|   0|        0|       0|         0| 120433|         120495|  120495|    0|        0|  120495|      0|\n",
      "+-------+------+----+---------+--------+----------+-------+---------------+--------+-----+---------+--------+-------+\n",
      "\n"
     ]
    }
   ],
   "source": [
    "from pyspark.sql.functions import col, when, year, month, dayofweek\n",
    "from pyspark.sql.types import IntegerType\n",
    "from pyspark.sql import functions as F\n",
    "\n",
    "# Count the number of missing (null) values in each column\n",
    "missing_values = df.select([F.sum(F.col(c).isNull().cast(\"int\")).alias(c) for c in df.columns])\n",
    "\n",
    "# Show the missing values count for each column\n",
    "missing_values.show()"
   ]
  },
  {
   "cell_type": "code",
   "execution_count": 5,
   "metadata": {
    "id": "SyQiUOGia7aJ"
   },
   "outputs": [],
   "source": [
    "# Fill missing values for specific columns\n",
    "df = df.fillna({\n",
    "    \"DepDelayMinutes\": 0,  # Fill with 0 for delay-related columns\n",
    "    \"DepDelay\": 0,         # Fill with 0 for DepDelay\n",
    "    \"DepDel15\": 0,         # Fill with 0 for DepDel15\n",
    "    \"delayed\": 0           # Fill with 0 for delayed column\n",
    "})\n"
   ]
  },
  {
   "cell_type": "code",
   "execution_count": 6,
   "metadata": {
    "colab": {
     "base_uri": "https://localhost:8080/"
    },
    "id": "mVeRTvx4a7X_",
    "outputId": "43011808-5ea3-4c23-9be9-3900ebcf26b8"
   },
   "outputs": [
    {
     "name": "stdout",
     "output_type": "stream",
     "text": [
      "+-------+------+----+---------+--------+----------+-------+---------------+--------+-----+---------+--------+-------+\n",
      "|Airline|Origin|Dest|Cancelled|Diverted|CRSDepTime|DepTime|DepDelayMinutes|DepDelay|Month|DayOfWeek|DepDel15|delayed|\n",
      "+-------+------+----+---------+--------+----------+-------+---------------+--------+-----+---------+--------+-------+\n",
      "|      0|     0|   0|        0|       0|         0| 120433|              0|       0|    0|        0|       0|      0|\n",
      "+-------+------+----+---------+--------+----------+-------+---------------+--------+-----+---------+--------+-------+\n",
      "\n"
     ]
    }
   ],
   "source": [
    "# Check for missing values again after handling them\n",
    "missing_values_after = df.select([F.sum(F.col(c).isNull().cast(\"int\")).alias(c) for c in df.columns])\n",
    "missing_values_after.show()"
   ]
  },
  {
   "cell_type": "code",
   "execution_count": 7,
   "metadata": {
    "id": "5d9xdTqRa7Vo"
   },
   "outputs": [],
   "source": [
    "df_cleaned = df.dropna(subset=[\"depTime\"])"
   ]
  },
  {
   "cell_type": "code",
   "execution_count": 8,
   "metadata": {
    "colab": {
     "base_uri": "https://localhost:8080/"
    },
    "id": "jZfJIOE9a7TB",
    "outputId": "e4178267-75f1-4a8c-ffb3-c572d07212d7"
   },
   "outputs": [
    {
     "name": "stdout",
     "output_type": "stream",
     "text": [
      "+--------------------+------+----+---------+--------+----------+-------+---------------+--------+-----+---------+--------+-------+\n",
      "|             Airline|Origin|Dest|Cancelled|Diverted|CRSDepTime|DepTime|DepDelayMinutes|DepDelay|Month|DayOfWeek|DepDel15|delayed|\n",
      "+--------------------+------+----+---------+--------+----------+-------+---------------+--------+-----+---------+--------+-------+\n",
      "|Commutair Aka Cha...|   GJT| DEN|    false|   false|      1133| 1123.0|            0.0|   -10.0|    4|        1|     0.0|      0|\n",
      "|Commutair Aka Cha...|   HRL| IAH|    false|   false|       732|  728.0|            0.0|    -4.0|    4|        1|     0.0|      0|\n",
      "|Commutair Aka Cha...|   DRO| DEN|    false|   false|      1529| 1514.0|            0.0|   -15.0|    4|        1|     0.0|      0|\n",
      "|Commutair Aka Cha...|   IAH| GPT|    false|   false|      1435| 1430.0|            0.0|    -5.0|    4|        1|     0.0|      0|\n",
      "|Commutair Aka Cha...|   DRO| DEN|    false|   false|      1135| 1135.0|            0.0|     0.0|    4|        1|     0.0|      0|\n",
      "|Commutair Aka Cha...|   DEN| TUL|    false|   false|       955|  952.0|            0.0|    -3.0|    4|        1|     0.0|      0|\n",
      "|Commutair Aka Cha...|   IAH| LCH|    false|   false|      2139| 2136.0|            0.0|    -3.0|    4|        1|     0.0|      0|\n",
      "|Commutair Aka Cha...|   TYS| IAH|    false|   false|      1129| 1117.0|            0.0|   -12.0|    4|        1|     0.0|      0|\n",
      "|Commutair Aka Cha...|   IAH| AEX|    false|   false|      1424| 1414.0|            0.0|   -10.0|    4|        1|     0.0|      0|\n",
      "|Commutair Aka Cha...|   IAH| MOB|    false|   false|       954|  947.0|            0.0|    -7.0|    4|        1|     0.0|      0|\n",
      "|Commutair Aka Cha...|   DEN| CPR|    false|   false|      1540| 1546.0|            6.0|     6.0|    4|        1|     0.0|      1|\n",
      "|Commutair Aka Cha...|   MOB| IAH|    false|   false|       705|  704.0|            0.0|    -1.0|    4|        1|     0.0|      0|\n",
      "|Commutair Aka Cha...|   LNK| DEN|    false|   false|      1403| 1358.0|            0.0|    -5.0|    4|        1|     0.0|      0|\n",
      "|Commutair Aka Cha...|   IAH| OKC|    false|   false|      1014| 1008.0|            0.0|    -6.0|    4|        1|     0.0|      0|\n",
      "|Commutair Aka Cha...|   BHM| IAH|    false|   false|      1258| 1255.0|            0.0|    -3.0|    4|        1|     0.0|      0|\n",
      "|Commutair Aka Cha...|   DEN| GJT|    false|   false|       941|  937.0|            0.0|    -4.0|    4|        1|     0.0|      0|\n",
      "|Commutair Aka Cha...|   DEN| DRO|    false|   false|      1330| 1322.0|            0.0|    -8.0|    4|        1|     0.0|      0|\n",
      "|Commutair Aka Cha...|   DEN| SAF|    false|   false|      1122| 1112.0|            0.0|   -10.0|    4|        1|     0.0|      0|\n",
      "|Commutair Aka Cha...|   DEN| SHV|    false|   false|      1731| 1800.0|           29.0|    29.0|    4|        1|     1.0|      1|\n",
      "|Commutair Aka Cha...|   IAH| MOB|    false|   false|      1940| 1954.0|           14.0|    14.0|    4|        1|     0.0|      1|\n",
      "+--------------------+------+----+---------+--------+----------+-------+---------------+--------+-----+---------+--------+-------+\n",
      "only showing top 20 rows\n",
      "\n"
     ]
    }
   ],
   "source": [
    "df_cleaned.show()"
   ]
  },
  {
   "cell_type": "code",
   "execution_count": 9,
   "metadata": {
    "id": "i2FyLbAoa7Qy"
   },
   "outputs": [],
   "source": [
    "# 2. Dealing with duplicates\n",
    "df_cleaned = df_cleaned.dropDuplicates()"
   ]
  },
  {
   "cell_type": "code",
   "execution_count": 10,
   "metadata": {
    "id": "dV8cBiLja7OP"
   },
   "outputs": [],
   "source": [
    "# 3. Data type conversion\n",
    "df_cleaned = df_cleaned.withColumn(\"CRSDepTime\", col(\"CRSDepTime\").cast(\"timestamp\"))\n",
    "df_cleaned = df_cleaned.withColumn(\"DepTime\", col(\"DepTime\").cast(\"timestamp\"))\n",
    "df_cleaned = df_cleaned.withColumn(\"Month\", col(\"Month\").cast(IntegerType()))\n",
    "df_cleaned = df_cleaned.withColumn(\"DayOfWeek\", col(\"DayOfWeek\").cast(IntegerType()))"
   ]
  },
  {
   "cell_type": "code",
   "execution_count": 11,
   "metadata": {
    "id": "vU4CE4qKa7L4"
   },
   "outputs": [],
   "source": [
    "# 4. Filtering out invalid rows (e.g., rows with negative or zero departure delays)\n",
    "df_cleaned = df_cleaned.filter((col(\"DepDelayMinutes\") >= 0) & (col(\"DepDelayMinutes\").isNotNull()))"
   ]
  },
  {
   "cell_type": "code",
   "execution_count": 12,
   "metadata": {
    "colab": {
     "base_uri": "https://localhost:8080/"
    },
    "id": "G3kMrrnea7Jj",
    "outputId": "30f4cc7f-684e-4a13-9d00-f5b77f44e9f6"
   },
   "outputs": [
    {
     "name": "stdout",
     "output_type": "stream",
     "text": [
      "+--------------------+------+----+---------+--------+-------------------+-------------------+---------------+--------+-----+---------+--------+-------+--------+--------------------+\n",
      "|             Airline|Origin|Dest|Cancelled|Diverted|         CRSDepTime|            DepTime|DepDelayMinutes|DepDelay|Month|DayOfWeek|DepDel15|delayed|features|     scaled_features|\n",
      "+--------------------+------+----+---------+--------+-------------------+-------------------+---------------+--------+-----+---------+--------+-------+--------+--------------------+\n",
      "|GoJet Airlines, L...|   IAD| RIC|    false|   false|1970-01-01 00:20:34|1970-01-01 00:20:27|            0.0|    -7.0|    4|        7|     0.0|      0|   [0.0]|               [0.0]|\n",
      "|Commutair Aka Cha...|   HRL| IAH|    false|   false|1970-01-01 00:20:09|1970-01-01 00:21:48|           59.0|    59.0|    4|        7|     1.0|      1|  [59.0]|[0.00816835110065...|\n",
      "|Commutair Aka Cha...|   IAH| MEM|    false|   false|1970-01-01 00:27:01|1970-01-01 00:28:22|           41.0|    41.0|    4|        6|     1.0|      1|  [41.0]|[0.00567631178180...|\n",
      "|Commutair Aka Cha...|   HSV| IAD|    false|   false|1970-01-01 00:21:47|1970-01-01 00:21:47|            0.0|     0.0|    4|        6|     0.0|      0|   [0.0]|               [0.0]|\n",
      "|Commutair Aka Cha...|   DEN| SAF|    false|   false|1970-01-01 00:18:42|1970-01-01 00:18:39|            0.0|    -3.0|    4|        5|     0.0|      0|   [0.0]|               [0.0]|\n",
      "|Air Wisconsin Air...|   ORD| LIT|    false|   false|1970-01-01 00:18:20|1970-01-01 00:17:34|            0.0|    -6.0|    4|        5|     0.0|      0|   [0.0]|               [0.0]|\n",
      "|Southwest Airline...|   AMA| DAL|    false|   false|1970-01-01 00:30:50|1970-01-01 00:30:45|            0.0|    -5.0|    4|        5|     0.0|      0|   [0.0]|               [0.0]|\n",
      "|Southwest Airline...|   AUS| ELP|    false|   false|1970-01-01 00:22:25|1970-01-01 00:23:32|           27.0|    27.0|    4|        5|     1.0|      1|  [27.0]|[0.00373805897826...|\n",
      "|Southwest Airline...|   AUS| PHX|    false|   false|1970-01-01 00:10:30|1970-01-01 00:10:38|            8.0|     8.0|    4|        5|     0.0|      1|   [8.0]|[0.00110757303059...|\n",
      "|Southwest Airline...|   BUR| SFO|    false|   false|1970-01-01 00:22:05|1970-01-01 00:22:03|            0.0|    -2.0|    4|        5|     0.0|      0|   [0.0]|               [0.0]|\n",
      "+--------------------+------+----+---------+--------+-------------------+-------------------+---------------+--------+-----+---------+--------+-------+--------+--------------------+\n",
      "only showing top 10 rows\n",
      "\n"
     ]
    }
   ],
   "source": [
    "# 5. Normalization or scaling\n",
    "# For example, normalizing the 'DepDelayMinutes' column\n",
    "from pyspark.ml.feature import MinMaxScaler\n",
    "from pyspark.ml.feature import VectorAssembler\n",
    "\n",
    "# Assemble the features into a vector\n",
    "assembler = VectorAssembler(inputCols=[\"DepDelayMinutes\"], outputCol=\"features\")\n",
    "df_featured = assembler.transform(df_cleaned)\n",
    "\n",
    "scaler = MinMaxScaler(inputCol=\"features\", outputCol=\"scaled_features\")\n",
    "scaler_model = scaler.fit(df_featured)\n",
    "df_scaled = scaler_model.transform(df_featured)\n",
    "\n",
    "# Show transformed dataset\n",
    "df_scaled.show(10)\n"
   ]
  },
  {
   "cell_type": "markdown",
   "metadata": {
    "id": "eacky_pJhZyf"
   },
   "source": [
    "**DATA ANALYSIS USING SQL**"
   ]
  },
  {
   "cell_type": "code",
   "execution_count": 13,
   "metadata": {
    "colab": {
     "base_uri": "https://localhost:8080/"
    },
    "id": "bf9s60CNa7G1",
    "outputId": "340e1734-ba6b-43fa-bdbb-4a1eb668bf6b"
   },
   "outputs": [
    {
     "name": "stdout",
     "output_type": "stream",
     "text": [
      "+------------------+------------------+------------+------------+\n",
      "|      avg_depdelay|   stddev_depdelay|min_depdelay|max_depdelay|\n",
      "+------------------+------------------+------------+------------+\n",
      "|16.951034000982784|53.757603044003645|         0.0|      7223.0|\n",
      "+------------------+------------------+------------+------------+\n",
      "\n",
      "1. What is the average departure delay?\n",
      "Answer: 16.951034000982784\n"
     ]
    }
   ],
   "source": [
    "# creating DataFrame as a temporary SQL view\n",
    "df_cleaned.createOrReplaceTempView(\"flights\")\n",
    "\n",
    "# 1. Aggregation: Summary statistics\n",
    "agg_df = spark.sql(\"\"\"\n",
    "    SELECT\n",
    "        AVG(DepDelayMinutes) AS avg_depdelay,\n",
    "        STDDEV(DepDelayMinutes) AS stddev_depdelay,\n",
    "        MIN(DepDelayMinutes) AS min_depdelay,\n",
    "        MAX(DepDelayMinutes) AS max_depdelay\n",
    "    FROM flights\n",
    "\"\"\")\n",
    "agg_df.show()\n",
    "avg_delay = agg_df.collect()[0]['avg_depdelay']\n",
    "print(f\"1. What is the average departure delay?\")\n",
    "print(f\"Answer: {avg_delay}\")"
   ]
  },
  {
   "cell_type": "markdown",
   "metadata": {
    "id": "Bfejp9Y8vl7e"
   },
   "source": [
    "**Observation:** The average departure delay across all flights in the dataset is approximately 16.95 minutes. This means that, on average, flights were delayed by about 17 minutes"
   ]
  },
  {
   "cell_type": "code",
   "execution_count": 14,
   "metadata": {
    "colab": {
     "base_uri": "https://localhost:8080/"
    },
    "id": "6xYGF1Hxa7EH",
    "outputId": "e1d96a30-b845-4307-ba11-c85f37c27ceb"
   },
   "outputs": [
    {
     "name": "stdout",
     "output_type": "stream",
     "text": [
      "+--------------------+------------------+\n",
      "|             airline|         avg_delay|\n",
      "+--------------------+------------------+\n",
      "|     JetBlue Airways|29.915710107336995|\n",
      "|Frontier Airlines...|24.323954232283466|\n",
      "|       Allegiant Air|23.040772532188843|\n",
      "|GoJet Airlines, L...|21.326688562973562|\n",
      "|  Mesa Airlines Inc.|20.078229033105217|\n",
      "|    Spirit Air Lines| 19.19650936216831|\n",
      "|American Airlines...| 18.84348847387083|\n",
      "|         Comair Inc.| 18.01541812486234|\n",
      "|Commutair Aka Cha...|17.379058502049435|\n",
      "|United Air Lines ...| 17.16639744971648|\n",
      "|Southwest Airline...| 16.70069956317939|\n",
      "|SkyWest Airlines ...| 16.07441887129177|\n",
      "|   Republic Airlines|15.822337686014448|\n",
      "|   Endeavor Air Inc.|14.790233300229556|\n",
      "|Delta Air Lines Inc.|14.751198668051984|\n",
      "|Air Wisconsin Air...|13.917513106159895|\n",
      "|Capital Cargo Int...|  13.1522756273926|\n",
      "|           Envoy Air|11.032422414365987|\n",
      "|Alaska Airlines Inc.|10.541964522107493|\n",
      "|         Horizon Air| 9.408613063209696|\n",
      "+--------------------+------------------+\n",
      "only showing top 20 rows\n",
      "\n",
      "2. What airline has the highest average departure delay?\n",
      "Answer: JetBlue Airways, 29.915710107336995\n"
     ]
    }
   ],
   "source": [
    "# 2. Grouping and filtering: Example of grouping by airline and calculating the average delay\n",
    "grouped_df = spark.sql(\"\"\"\n",
    "    SELECT airline, AVG(DepDelayMinutes) AS avg_delay\n",
    "    FROM flights\n",
    "    GROUP BY airline\n",
    "    ORDER BY avg_delay DESC\n",
    "\"\"\")\n",
    "grouped_df.show()\n",
    "\n",
    "top_airline = grouped_df.collect()[0]['airline']\n",
    "top_airline_avg_delay = grouped_df.collect()[0]['avg_delay']\n",
    "print(f\"2. What airline has the highest average departure delay?\")\n",
    "print(f\"Answer: {top_airline}, {top_airline_avg_delay}\")"
   ]
  },
  {
   "cell_type": "markdown",
   "metadata": {
    "id": "WV95SWObv4Ys"
   },
   "source": [
    "**Observation:** JetBlue Airways has the highest average departure delay, with flights being delayed by an average of approximately 29.92 minutes."
   ]
  },
  {
   "cell_type": "code",
   "execution_count": 15,
   "metadata": {
    "colab": {
     "base_uri": "https://localhost:8080/"
    },
    "id": "6bWMFkAGa7BF",
    "outputId": "69790dff-38c9-40a2-cb33-bc7ef2308d6c"
   },
   "outputs": [
    {
     "name": "stdout",
     "output_type": "stream",
     "text": [
      "+-----+------------------+\n",
      "|Month|         avg_delay|\n",
      "+-----+------------------+\n",
      "|    6| 19.23793084789784|\n",
      "|    7|18.828658075634678|\n",
      "|    4| 17.02915422343938|\n",
      "|    5|16.218215708727833|\n",
      "|    3|16.128246709076365|\n",
      "|    1| 15.48457275939608|\n",
      "|    2|15.274601887034112|\n",
      "+-----+------------------+\n",
      "\n",
      "3. How do delays vary by month?\n",
      "Answer: Month 6, 19.23793084789784\n"
     ]
    }
   ],
   "source": [
    "# 3. Time-based analysis: Example analysis over months\n",
    "time_analysis_df = spark.sql(\"\"\"\n",
    "    SELECT Month, AVG(DepDelayMinutes) AS avg_delay\n",
    "    FROM flights\n",
    "    GROUP BY Month\n",
    "    ORDER BY avg_delay DESC\n",
    "\"\"\")\n",
    "time_analysis_df.show()\n",
    "\n",
    "# Find the month with the highest average delay\n",
    "highest_delay_row = time_analysis_df.collect()[0]\n",
    "month_with_highest_delay = highest_delay_row['Month']\n",
    "highest_month_avg_delay = highest_delay_row['avg_delay']\n",
    "\n",
    "# Print\n",
    "print(f\"3. How do delays vary by month?\")\n",
    "print(f\"Answer: Month {month_with_highest_delay}, {highest_month_avg_delay}\")\n"
   ]
  },
  {
   "cell_type": "markdown",
   "metadata": {
    "id": "1feykh_-v7pN"
   },
   "source": [
    "**Observation:** The month with the highest average departure delay is June (Month 6), with an average delay of approximately 19.24 minutes."
   ]
  },
  {
   "cell_type": "code",
   "execution_count": 16,
   "metadata": {
    "colab": {
     "base_uri": "https://localhost:8080/"
    },
    "id": "0kg0A7ooa6-B",
    "outputId": "5fcef2d0-60c0-4178-a9af-034a7f098c60"
   },
   "outputs": [
    {
     "name": "stdout",
     "output_type": "stream",
     "text": [
      "+--------------------+----------------+\n",
      "|             airline|canceled_flights|\n",
      "+--------------------+----------------+\n",
      "|American Airlines...|             481|\n",
      "|   Republic Airlines|             343|\n",
      "|         Comair Inc.|             192|\n",
      "|Delta Air Lines Inc.|             187|\n",
      "|     JetBlue Airways|             181|\n",
      "|SkyWest Airlines ...|             180|\n",
      "|United Air Lines ...|             163|\n",
      "|   Endeavor Air Inc.|             137|\n",
      "|           Envoy Air|             132|\n",
      "|Southwest Airline...|             126|\n",
      "|Alaska Airlines Inc.|             103|\n",
      "|    Spirit Air Lines|             102|\n",
      "|       Allegiant Air|              83|\n",
      "|Frontier Airlines...|              78|\n",
      "|         Horizon Air|              63|\n",
      "|Capital Cargo Int...|              61|\n",
      "|GoJet Airlines, L...|              49|\n",
      "|  Mesa Airlines Inc.|              40|\n",
      "|Air Wisconsin Air...|              28|\n",
      "|Commutair Aka Cha...|              28|\n",
      "+--------------------+----------------+\n",
      "only showing top 20 rows\n",
      "\n",
      "4. Which airline has the most canceled flights?\n",
      "Answer: American Airlines Inc., 481\n"
     ]
    }
   ],
   "source": [
    "# 4. Count the number of canceled flights by airline\n",
    "canceled_flights_df = spark.sql(\"\"\"\n",
    "    SELECT airline, COUNT(*) AS canceled_flights\n",
    "    FROM flights\n",
    "    WHERE cancelled = 1\n",
    "    GROUP BY airline\n",
    "    ORDER BY canceled_flights DESC\n",
    "\"\"\")\n",
    "canceled_flights_df.show()\n",
    "\n",
    "top_airline_canceled = canceled_flights_df.collect()[0]['airline']\n",
    "top_airline_canceled_count = canceled_flights_df.collect()[0]['canceled_flights']\n",
    "print(f\"4. Which airline has the most canceled flights?\")\n",
    "print(f\"Answer: {top_airline_canceled}, {top_airline_canceled_count}\")\n"
   ]
  },
  {
   "cell_type": "markdown",
   "metadata": {
    "id": "oHd1w76SwXjA"
   },
   "source": [
    "**Observation:** The dataset shows that American Airlines Inc. had the highest number of canceled flights, totaling 481."
   ]
  },
  {
   "cell_type": "code",
   "execution_count": 17,
   "metadata": {
    "colab": {
     "base_uri": "https://localhost:8080/"
    },
    "id": "sJNOIbxMgOEq",
    "outputId": "6849ab60-e615-4b49-d730-ac0590248b5b"
   },
   "outputs": [
    {
     "name": "stdout",
     "output_type": "stream",
     "text": [
      "+------------------+\n",
      "|avg_delay_diverted|\n",
      "+------------------+\n",
      "|30.967071736573892|\n",
      "+------------------+\n",
      "\n",
      "5. What is the average departure delay for diverted flights?\n",
      "Answer: 30.967071736573892\n"
     ]
    }
   ],
   "source": [
    "# 5. Average departure delay for diverted flights\n",
    "diverted_flights_delay_df = spark.sql(\"\"\"\n",
    "    SELECT AVG(DepDelayMinutes) AS avg_delay_diverted\n",
    "    FROM flights\n",
    "    WHERE diverted = 1\n",
    "\"\"\")\n",
    "diverted_flights_delay_df.show()\n",
    "\n",
    "# Print question and answer for diverted flights\n",
    "avg_delay_diverted = diverted_flights_delay_df.collect()[0]['avg_delay_diverted']\n",
    "print(f\"5. What is the average departure delay for diverted flights?\")\n",
    "print(f\"Answer: {avg_delay_diverted}\")\n"
   ]
  },
  {
   "cell_type": "markdown",
   "metadata": {
    "id": "dbbIZAj9wghc"
   },
   "source": [
    "**Observation:** The average departure delay for diverted flights is approximately 30.97 minutes. This indicates that, on average, diverted flights experience significant delays."
   ]
  },
  {
   "cell_type": "markdown",
   "metadata": {
    "id": "ZEQANAbPhlHa"
   },
   "source": [
    "**Model Training (Classification)**"
   ]
  },
  {
   "cell_type": "code",
   "execution_count": 18,
   "metadata": {
    "id": "VtUJKke-hGKM"
   },
   "outputs": [],
   "source": [
    "from pyspark.ml.classification import LogisticRegression\n",
    "from pyspark.ml.feature import VectorAssembler\n",
    "from pyspark.ml import Pipeline\n"
   ]
  },
  {
   "cell_type": "code",
   "execution_count": 19,
   "metadata": {
    "id": "GMMPKmMGiG6e"
   },
   "outputs": [],
   "source": [
    "from pyspark.sql.functions import hour, minute, col\n",
    "from pyspark.ml.feature import VectorAssembler\n",
    "\n",
    "# Convert CRSDepTime and DepTime columns to hour and minute\n",
    "df_cleaned = df_cleaned.withColumn(\"CRSDepHour\", hour(col(\"CRSDepTime\"))) \\\n",
    "                       .withColumn(\"CRSDepMinute\", minute(col(\"CRSDepTime\"))) \\\n",
    "                       .withColumn(\"DepHour\", hour(col(\"DepTime\"))) \\\n",
    "                       .withColumn(\"DepMinute\", minute(col(\"DepTime\")))"
   ]
  },
  {
   "cell_type": "code",
   "execution_count": 20,
   "metadata": {
    "id": "ocQKEz4GgN3M"
   },
   "outputs": [],
   "source": [
    "# Assemble features (selecting relevant columns)\n",
    "assembler = VectorAssembler(inputCols=[\"Month\", \"DayOfWeek\", \"CRSDepHour\", \"CRSDepMinute\", \"DepHour\", \"DepMinute\"], outputCol=\"features\")\n",
    "df_featured = assembler.transform(df_cleaned)\n",
    "\n",
    "# Split data into training and testing sets\n",
    "train_data, test_data = df_featured.randomSplit([0.8, 0.2], seed=42)\n",
    "\n",
    "# Define the Logistic Regression model\n",
    "lr = LogisticRegression(labelCol=\"delayed\", featuresCol=\"features\")\n",
    "\n",
    "# Create the pipeline (no need to include assembler here, it was already applied)\n",
    "pipeline = Pipeline(stages=[lr])\n",
    "\n",
    "# Fit the model\n",
    "model = pipeline.fit(train_data)"
   ]
  },
  {
   "cell_type": "code",
   "execution_count": 21,
   "metadata": {
    "id": "6QsLaVr-gNy8"
   },
   "outputs": [],
   "source": [
    "# Make predictions\n",
    "predictions = model.transform(test_data)"
   ]
  },
  {
   "cell_type": "code",
   "execution_count": 23,
   "metadata": {
    "colab": {
     "base_uri": "https://localhost:8080/"
    },
    "id": "hr7AMDCVgNoh",
    "outputId": "2f02c360-0e68-4247-e271-f1cc32f26c8c"
   },
   "outputs": [
    {
     "name": "stdout",
     "output_type": "stream",
     "text": [
      "Model Accuracy: 0.692447458863505\n"
     ]
    }
   ],
   "source": [
    "# Evaluate the model using accuracy\n",
    "correct_predictions = predictions.filter(predictions.delayed == predictions.prediction).count()\n",
    "total_predictions = predictions.count()\n",
    "accuracy = correct_predictions / total_predictions\n",
    "\n",
    "print(f\"Model Accuracy: {accuracy}\")"
   ]
  },
  {
   "cell_type": "markdown",
   "metadata": {
    "id": "M_p_d2YRw7V1"
   },
   "source": [
    "**Observation:** The model accuracy of 0.6924 (approximately 69.24%) indicates that about 69.24% of the predictions made by the model are correct, meaning that the model was able to correctly classify whether a flight would be delayed or not for almost 70% of the cases."
   ]
  },
  {
   "cell_type": "markdown",
   "metadata": {
    "id": "hsBL78cQkyrJ"
   },
   "source": [
    "**Model Tuning and Evaluation**"
   ]
  },
  {
   "cell_type": "code",
   "execution_count": 25,
   "metadata": {
    "id": "LA3iKQHHkuSw"
   },
   "outputs": [],
   "source": [
    "from pyspark.ml.tuning import CrossValidator, ParamGridBuilder\n",
    "from pyspark.ml.evaluation import BinaryClassificationEvaluator\n",
    "\n",
    "# Define parameter grid for hyperparameter tuning\n",
    "param_grid = ParamGridBuilder() \\\n",
    "    .addGrid(lr.regParam, [0.1, 0.5]) \\\n",
    "    .addGrid(lr.maxIter, [10, 50]) \\\n",
    "    .build()\n",
    "\n",
    "# Cross-validation setup\n",
    "crossval = CrossValidator(estimator=pipeline,\n",
    "                          estimatorParamMaps=param_grid,\n",
    "                          evaluator=BinaryClassificationEvaluator(labelCol=\"delayed\"),\n",
    "                          numFolds=3)"
   ]
  },
  {
   "cell_type": "code",
   "execution_count": 26,
   "metadata": {
    "id": "QYwaLvNxkuPT"
   },
   "outputs": [],
   "source": [
    "# Fit the model using cross-validation\n",
    "cv_model = crossval.fit(train_data)\n"
   ]
  },
  {
   "cell_type": "code",
   "execution_count": 28,
   "metadata": {
    "colab": {
     "base_uri": "https://localhost:8080/"
    },
    "id": "41XEwLFYkuM9",
    "outputId": "1f5e3940-348f-422c-b672-d3f436a34ce8"
   },
   "outputs": [
    {
     "name": "stdout",
     "output_type": "stream",
     "text": [
      "Model Accuracy: 0.6126538553856592\n"
     ]
    }
   ],
   "source": [
    "# Get predictions from the cross-validated model\n",
    "cv_predictions = cv_model.transform(test_data)\n",
    "\n",
    "# Calculate accuracy\n",
    "correct_predictions = cv_predictions.filter(cv_predictions.delayed == cv_predictions.prediction).count()\n",
    "total_predictions = cv_predictions.count()\n",
    "accuracy = correct_predictions / total_predictions\n",
    "\n",
    "# Print the accuracy\n",
    "print(f\"Model Accuracy: {accuracy}\")"
   ]
  },
  {
   "cell_type": "markdown",
   "metadata": {
    "id": "TMJFRBvl0KwZ"
   },
   "source": [
    "**Observation:** The Model Accuracy of 0.6127 means that approximately 61.27% of the predictions made by the model are correct. This suggests that the model performs moderately well, but there is still room for improvement."
   ]
  }
 ],
 "metadata": {
  "accelerator": "GPU",
  "colab": {
   "gpuType": "T4",
   "provenance": []
  },
  "kernelspec": {
   "display_name": "Python 3 (ipykernel)",
   "language": "python",
   "name": "python3"
  },
  "language_info": {
   "codemirror_mode": {
    "name": "ipython",
    "version": 3
   },
   "file_extension": ".py",
   "mimetype": "text/x-python",
   "name": "python",
   "nbconvert_exporter": "python",
   "pygments_lexer": "ipython3",
   "version": "3.11.1"
  }
 },
 "nbformat": 4,
 "nbformat_minor": 1
}
