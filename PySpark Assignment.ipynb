{
 "cells": [
  {
   "cell_type": "markdown",
   "metadata": {
    "application/vnd.databricks.v1+cell": {
     "cellMetadata": {},
     "inputWidgets": {},
     "nuid": "43b8d0ea-14da-4899-8045-dba7317e5534",
     "showTitle": false,
     "tableResultSettingsMap": {},
     "title": ""
    }
   },
   "source": [
    "## Dataset Description"
   ]
  },
  {
   "cell_type": "markdown",
   "metadata": {
    "application/vnd.databricks.v1+cell": {
     "cellMetadata": {},
     "inputWidgets": {},
     "nuid": "2d89d897-eb83-4d06-8f68-edbd16e71e1f",
     "showTitle": false,
     "tableResultSettingsMap": {},
     "title": ""
    }
   },
   "source": [
    "The **2015 Flight Delays and Cancellations** dataset contains detailed records of flight information for the year 2015. It includes data related to flight delays, cancellations, and their causes, along with information about the airlines and airports involved. \n",
    "\n",
    "**Dataset Link :** https://www.kaggle.com/datasets/usdot/flight-delays\n",
    "\n",
    "This dataset consists of three CSV files:\n",
    "\n",
    "**1. airlines.csv**\n",
    "\n",
    "**IATA_CODE:** Airline Identifier\n",
    "\n",
    "**AIRLINE:** Name of the airline\n",
    "\n",
    "**2. airports.csv**\n",
    "\n",
    "**IATA_CODE:** Airport Identifier\n",
    "\n",
    "**AIRPORT:** Name of the airport\n",
    "\n",
    "**CITY:** City of the airport\n",
    "\n",
    "**STATE:** State of the airport\n",
    "\n",
    "**COUNTRY:** Country of the airport\n",
    "\n",
    "**LATITUDE:** Latitude of the airport\n",
    "\n",
    "**LONGITUDE:** Longitude of the airport\n",
    "\n",
    "**3. flights.csv**\n",
    "\n",
    "**YEAR:** Year of the flight trip\n",
    "\n",
    "**MONTH:** Month of the flight trip\n",
    "\n",
    "**DAY:** Day of the month\n",
    "\n",
    "**DAY_OF_WEEK:** Day of the week\n",
    "\n",
    "**AIRLINE:** Airline Identifier\n",
    "\n",
    "**FLIGHT_NUMBER:** Flight Identifier\n",
    "\n",
    "**TAIL_NUMBER:** Aircraft Identifier\n",
    "\n",
    "**ORIGIN_AIRPORT:** Starting airport code\n",
    "\n",
    "**DESTINATION_AIRPORT:** Destination airport code\n",
    "\n",
    "**SCHEDULED_DEPARTURE:** Scheduled departure time\n",
    "\n",
    "**DEPARTURE_TIME:** Actual departure time\n",
    "\n",
    "**DEPARTURE_DELAY:** Delay on departure\n",
    "\n",
    "**TAXI_OUT:** Time between origin airport gate and wheels off\n",
    "\n",
    "**WHEELS_OFF:** Time when the aircraft’s wheels leave the ground\n",
    "\n",
    "**SCHEDULED_TIME:** Planned time for the flight trip\n",
    "\n",
    "**ELAPSED_TIME:** Total flight time\n",
    "\n",
    "**AIR_TIME:** Time between wheels off and wheels on\n",
    "\n",
    "**DISTANCE:** Distance between origin and destination airports\n",
    "\n",
    "**WHEELS_ON:** Time when the aircraft’s wheels touch the ground\n",
    "\n",
    "**TAXI_IN:** Time from wheels on to gate arrival\n",
    "\n",
    "**SCHEDULED_ARRIVAL:** Scheduled arrival time\n",
    "\n",
    "**ARRIVAL_TIME:** Actual arrival time\n",
    "\n",
    "**ARRIVAL_DELAY:** Delay on arrival\n",
    "\n",
    "**DIVERTED:** Whether the flight was diverted (1 = diverted)\n",
    "\n",
    "**CANCELLED:** Whether the flight was cancelled (1 = cancelled)\n",
    "\n",
    "**CANCELLATION_REASON:** Reason for cancellation (A = Airline, B = Weather, C = National Air System, D = Security)\n",
    "\n",
    "**AIR_SYSTEM_DELAY:** Delay caused by air system\n",
    "\n",
    "**SECURITY_DELAY:** Delay caused by security\n",
    "\n",
    "**AIRLINE_DELAY:** Delay caused by the airline\n",
    "\n",
    "**LATE_AIRCRAFT_DELAY:** Delay caused by aircraft\n",
    "\n",
    "**WEATHER_DELAY:** Delay caused by weather"
   ]
  },
  {
   "cell_type": "markdown",
   "metadata": {
    "application/vnd.databricks.v1+cell": {
     "cellMetadata": {},
     "inputWidgets": {},
     "nuid": "7715bada-e35e-4588-95fa-bb8be0bf0c2f",
     "showTitle": false,
     "tableResultSettingsMap": {},
     "title": ""
    }
   },
   "source": [
    "## Data Loading and Initial Exploration "
   ]
  },
  {
   "cell_type": "code",
   "execution_count": 0,
   "metadata": {
    "application/vnd.databricks.v1+cell": {
     "cellMetadata": {
      "byteLimit": 2048000,
      "rowLimit": 10000
     },
     "inputWidgets": {},
     "nuid": "ac6a57a8-2283-43ab-ab33-babad0da7930",
     "showTitle": false,
     "tableResultSettingsMap": {},
     "title": ""
    }
   },
   "outputs": [],
   "source": [
    "from pyspark.sql import SparkSession\n",
    "\n",
    "spark = SparkSession.builder.appName(\"FlightDelay\").getOrCreate()"
   ]
  },
  {
   "cell_type": "code",
   "execution_count": 0,
   "metadata": {
    "application/vnd.databricks.v1+cell": {
     "cellMetadata": {
      "byteLimit": 2048000,
      "rowLimit": 10000
     },
     "inputWidgets": {},
     "nuid": "b0092f03-2edb-4336-b736-513ad325f3ce",
     "showTitle": false,
     "tableResultSettingsMap": {},
     "title": ""
    }
   },
   "outputs": [],
   "source": [
    "# Loading the datasets\n",
    "flights_df = spark.read.csv(\"dbfs:/FileStore/flights.csv\", header=True, inferSchema=True)\n",
    "airlines_df = spark.read.csv(\"dbfs:/FileStore/airlines.csv\", header=True, inferSchema=True)\n",
    "airports_df = spark.read.csv(\"dbfs:/FileStore/airports.csv\", header=True, inferSchema=True)"
   ]
  },
  {
   "cell_type": "code",
   "execution_count": 0,
   "metadata": {
    "application/vnd.databricks.v1+cell": {
     "cellMetadata": {
      "byteLimit": 2048000,
      "rowLimit": 10000
     },
     "inputWidgets": {},
     "nuid": "a859c12e-02ac-40e1-a27a-b17a7b287339",
     "showTitle": false,
     "tableResultSettingsMap": {},
     "title": ""
    }
   },
   "outputs": [],
   "source": [
    "# Rename the AIRLINE column in the airlines_df to avoid conflicts\n",
    "airlines_df = airlines_df.withColumnRenamed(\"AIRLINE\", \"AIRLINE_NAME\")\n",
    "\n",
    "# Join flights with airlines\n",
    "flights_airlines_df = flights_df.join(airlines_df, flights_df.AIRLINE == airlines_df.IATA_CODE, \"left\")\n",
    "\n",
    "# Rename IATA_CODE in airports_df to avoid conflicts\n",
    "airports_origin = airports_df.withColumnRenamed(\"IATA_CODE\", \"ORIGIN_AIRPORT_CODE\")\n",
    "airports_destination = airports_df.withColumnRenamed(\"IATA_CODE\", \"DESTINATION_AIRPORT_CODE\")\n",
    "\n",
    "# Join with origin airport details\n",
    "flights_with_origin = flights_airlines_df.join(\n",
    "    airports_origin, \n",
    "    flights_df.ORIGIN_AIRPORT == airports_origin.ORIGIN_AIRPORT_CODE, \n",
    "    \"left\"\n",
    ")\n",
    "\n",
    "# Join with destination airport details\n",
    "flights_with_destination = flights_with_origin.join(\n",
    "    airports_destination, \n",
    "    flights_df.DESTINATION_AIRPORT == airports_destination.DESTINATION_AIRPORT_CODE, \n",
    "    \"left\"\n",
    ")\n",
    "\n",
    "# The final dataframe with all the columns joined\n",
    "df = flights_with_destination"
   ]
  },
  {
   "cell_type": "code",
   "execution_count": 0,
   "metadata": {
    "application/vnd.databricks.v1+cell": {
     "cellMetadata": {
      "byteLimit": 2048000,
      "rowLimit": 10000
     },
     "inputWidgets": {},
     "nuid": "8e88c786-7d87-4f97-ad4a-ca44ede336a9",
     "showTitle": false,
     "tableResultSettingsMap": {},
     "title": ""
    }
   },
   "outputs": [
    {
     "name": "stdout",
     "output_type": "stream",
     "text": [
      "root\n",
      " |-- YEAR: integer (nullable = true)\n",
      " |-- MONTH: integer (nullable = true)\n",
      " |-- DAY: integer (nullable = true)\n",
      " |-- DAY_OF_WEEK: integer (nullable = true)\n",
      " |-- AIRLINE: string (nullable = true)\n",
      " |-- FLIGHT_NUMBER: integer (nullable = true)\n",
      " |-- TAIL_NUMBER: string (nullable = true)\n",
      " |-- ORIGIN_AIRPORT: string (nullable = true)\n",
      " |-- DESTINATION_AIRPORT: string (nullable = true)\n",
      " |-- SCHEDULED_DEPARTURE: integer (nullable = true)\n",
      " |-- DEPARTURE_TIME: integer (nullable = true)\n",
      " |-- DEPARTURE_DELAY: integer (nullable = true)\n",
      " |-- TAXI_OUT: integer (nullable = true)\n",
      " |-- WHEELS_OFF: integer (nullable = true)\n",
      " |-- SCHEDULED_TIME: integer (nullable = true)\n",
      " |-- ELAPSED_TIME: integer (nullable = true)\n",
      " |-- AIR_TIME: integer (nullable = true)\n",
      " |-- DISTANCE: integer (nullable = true)\n",
      " |-- WHEELS_ON: integer (nullable = true)\n",
      " |-- TAXI_IN: integer (nullable = true)\n",
      " |-- SCHEDULED_ARRIVAL: integer (nullable = true)\n",
      " |-- ARRIVAL_TIME: integer (nullable = true)\n",
      " |-- ARRIVAL_DELAY: integer (nullable = true)\n",
      " |-- DIVERTED: integer (nullable = true)\n",
      " |-- CANCELLED: integer (nullable = true)\n",
      " |-- CANCELLATION_REASON: string (nullable = true)\n",
      " |-- AIR_SYSTEM_DELAY: integer (nullable = true)\n",
      " |-- SECURITY_DELAY: integer (nullable = true)\n",
      " |-- AIRLINE_DELAY: integer (nullable = true)\n",
      " |-- LATE_AIRCRAFT_DELAY: integer (nullable = true)\n",
      " |-- WEATHER_DELAY: integer (nullable = true)\n",
      " |-- IATA_CODE: string (nullable = true)\n",
      " |-- AIRLINE_NAME: string (nullable = true)\n",
      " |-- ORIGIN_AIRPORT_CODE: string (nullable = true)\n",
      " |-- AIRPORT: string (nullable = true)\n",
      " |-- CITY: string (nullable = true)\n",
      " |-- STATE: string (nullable = true)\n",
      " |-- COUNTRY: string (nullable = true)\n",
      " |-- LATITUDE: double (nullable = true)\n",
      " |-- LONGITUDE: double (nullable = true)\n",
      " |-- DESTINATION_AIRPORT_CODE: string (nullable = true)\n",
      " |-- AIRPORT: string (nullable = true)\n",
      " |-- CITY: string (nullable = true)\n",
      " |-- STATE: string (nullable = true)\n",
      " |-- COUNTRY: string (nullable = true)\n",
      " |-- LATITUDE: double (nullable = true)\n",
      " |-- LONGITUDE: double (nullable = true)\n",
      "\n"
     ]
    }
   ],
   "source": [
    "df.printSchema()"
   ]
  },
  {
   "cell_type": "code",
   "execution_count": 0,
   "metadata": {
    "application/vnd.databricks.v1+cell": {
     "cellMetadata": {
      "byteLimit": 2048000,
      "rowLimit": 10000
     },
     "inputWidgets": {},
     "nuid": "bf89da31-4b35-4c6c-b1f4-e068b4d66540",
     "showTitle": false,
     "tableResultSettingsMap": {},
     "title": ""
    }
   },
   "outputs": [],
   "source": [
    "# Drop redundant columns\n",
    "df = df.drop(\"IATA_CODE\", \"AIRLINE\", \"ORIGIN_AIRPORT_CODE\", \"DESTINATION_AIRPORT_CODE\", \n",
    "             \"AIRPORT\", \"CITY\", \"STATE\", \"COUNTRY\", \"LATITUDE\", \"LONGITUDE\")"
   ]
  },
  {
   "cell_type": "markdown",
   "metadata": {
    "application/vnd.databricks.v1+cell": {
     "cellMetadata": {},
     "inputWidgets": {},
     "nuid": "94418622-6cd5-4d45-a990-8bbf84874eb7",
     "showTitle": false,
     "tableResultSettingsMap": {},
     "title": ""
    }
   },
   "source": [
    "**Q1.  What are the data types of each column?**"
   ]
  },
  {
   "cell_type": "code",
   "execution_count": 0,
   "metadata": {
    "application/vnd.databricks.v1+cell": {
     "cellMetadata": {
      "byteLimit": 2048000,
      "rowLimit": 10000
     },
     "inputWidgets": {},
     "nuid": "e06c679e-ab3a-4055-a097-7cfa35ca8936",
     "showTitle": false,
     "tableResultSettingsMap": {},
     "title": ""
    }
   },
   "outputs": [
    {
     "name": "stdout",
     "output_type": "stream",
     "text": [
      "root\n",
      " |-- YEAR: integer (nullable = true)\n",
      " |-- MONTH: integer (nullable = true)\n",
      " |-- DAY: integer (nullable = true)\n",
      " |-- DAY_OF_WEEK: integer (nullable = true)\n",
      " |-- FLIGHT_NUMBER: integer (nullable = true)\n",
      " |-- TAIL_NUMBER: string (nullable = true)\n",
      " |-- ORIGIN_AIRPORT: string (nullable = true)\n",
      " |-- DESTINATION_AIRPORT: string (nullable = true)\n",
      " |-- SCHEDULED_DEPARTURE: integer (nullable = true)\n",
      " |-- DEPARTURE_TIME: integer (nullable = true)\n",
      " |-- DEPARTURE_DELAY: integer (nullable = true)\n",
      " |-- TAXI_OUT: integer (nullable = true)\n",
      " |-- WHEELS_OFF: integer (nullable = true)\n",
      " |-- SCHEDULED_TIME: integer (nullable = true)\n",
      " |-- ELAPSED_TIME: integer (nullable = true)\n",
      " |-- AIR_TIME: integer (nullable = true)\n",
      " |-- DISTANCE: integer (nullable = true)\n",
      " |-- WHEELS_ON: integer (nullable = true)\n",
      " |-- TAXI_IN: integer (nullable = true)\n",
      " |-- SCHEDULED_ARRIVAL: integer (nullable = true)\n",
      " |-- ARRIVAL_TIME: integer (nullable = true)\n",
      " |-- ARRIVAL_DELAY: integer (nullable = true)\n",
      " |-- DIVERTED: integer (nullable = true)\n",
      " |-- CANCELLED: integer (nullable = true)\n",
      " |-- CANCELLATION_REASON: string (nullable = true)\n",
      " |-- AIR_SYSTEM_DELAY: integer (nullable = true)\n",
      " |-- SECURITY_DELAY: integer (nullable = true)\n",
      " |-- AIRLINE_DELAY: integer (nullable = true)\n",
      " |-- LATE_AIRCRAFT_DELAY: integer (nullable = true)\n",
      " |-- WEATHER_DELAY: integer (nullable = true)\n",
      " |-- AIRLINE_NAME: string (nullable = true)\n",
      "\n"
     ]
    }
   ],
   "source": [
    "df.printSchema()"
   ]
  },
  {
   "cell_type": "code",
   "execution_count": 0,
   "metadata": {
    "application/vnd.databricks.v1+cell": {
     "cellMetadata": {
      "byteLimit": 2048000,
      "rowLimit": 10000
     },
     "inputWidgets": {},
     "nuid": "04dcc3d1-6d2b-4197-b3bd-d39265d9a122",
     "showTitle": false,
     "tableResultSettingsMap": {},
     "title": ""
    }
   },
   "outputs": [
    {
     "data": {
      "text/html": [
       "<style scoped>\n",
       "  .table-result-container {\n",
       "    max-height: 300px;\n",
       "    overflow: auto;\n",
       "  }\n",
       "  table, th, td {\n",
       "    border: 1px solid black;\n",
       "    border-collapse: collapse;\n",
       "  }\n",
       "  th, td {\n",
       "    padding: 5px;\n",
       "  }\n",
       "  th {\n",
       "    text-align: left;\n",
       "  }\n",
       "</style><div class='table-result-container'><table class='table-result'><thead style='background-color: white'><tr><th>YEAR</th><th>MONTH</th><th>DAY</th><th>DAY_OF_WEEK</th><th>FLIGHT_NUMBER</th><th>TAIL_NUMBER</th><th>ORIGIN_AIRPORT</th><th>DESTINATION_AIRPORT</th><th>SCHEDULED_DEPARTURE</th><th>DEPARTURE_TIME</th><th>DEPARTURE_DELAY</th><th>TAXI_OUT</th><th>WHEELS_OFF</th><th>SCHEDULED_TIME</th><th>ELAPSED_TIME</th><th>AIR_TIME</th><th>DISTANCE</th><th>WHEELS_ON</th><th>TAXI_IN</th><th>SCHEDULED_ARRIVAL</th><th>ARRIVAL_TIME</th><th>ARRIVAL_DELAY</th><th>DIVERTED</th><th>CANCELLED</th><th>CANCELLATION_REASON</th><th>AIR_SYSTEM_DELAY</th><th>SECURITY_DELAY</th><th>AIRLINE_DELAY</th><th>LATE_AIRCRAFT_DELAY</th><th>WEATHER_DELAY</th><th>AIRLINE_NAME</th></tr></thead><tbody><tr><td>2015</td><td>1</td><td>1</td><td>4</td><td>98</td><td>N407AS</td><td>ANC</td><td>SEA</td><td>5</td><td>2354</td><td>-11</td><td>21</td><td>15</td><td>205</td><td>194</td><td>169</td><td>1448</td><td>404</td><td>4</td><td>430</td><td>408</td><td>-22</td><td>0</td><td>0</td><td>null</td><td>null</td><td>null</td><td>null</td><td>null</td><td>null</td><td>Alaska Airlines Inc.</td></tr><tr><td>2015</td><td>1</td><td>1</td><td>4</td><td>2336</td><td>N3KUAA</td><td>LAX</td><td>PBI</td><td>10</td><td>2</td><td>-8</td><td>12</td><td>14</td><td>280</td><td>279</td><td>263</td><td>2330</td><td>737</td><td>4</td><td>750</td><td>741</td><td>-9</td><td>0</td><td>0</td><td>null</td><td>null</td><td>null</td><td>null</td><td>null</td><td>null</td><td>American Airlines Inc.</td></tr><tr><td>2015</td><td>1</td><td>1</td><td>4</td><td>840</td><td>N171US</td><td>SFO</td><td>CLT</td><td>20</td><td>18</td><td>-2</td><td>16</td><td>34</td><td>286</td><td>293</td><td>266</td><td>2296</td><td>800</td><td>11</td><td>806</td><td>811</td><td>5</td><td>0</td><td>0</td><td>null</td><td>null</td><td>null</td><td>null</td><td>null</td><td>null</td><td>US Airways Inc.</td></tr><tr><td>2015</td><td>1</td><td>1</td><td>4</td><td>258</td><td>N3HYAA</td><td>LAX</td><td>MIA</td><td>20</td><td>15</td><td>-5</td><td>15</td><td>30</td><td>285</td><td>281</td><td>258</td><td>2342</td><td>748</td><td>8</td><td>805</td><td>756</td><td>-9</td><td>0</td><td>0</td><td>null</td><td>null</td><td>null</td><td>null</td><td>null</td><td>null</td><td>American Airlines Inc.</td></tr><tr><td>2015</td><td>1</td><td>1</td><td>4</td><td>135</td><td>N527AS</td><td>SEA</td><td>ANC</td><td>25</td><td>24</td><td>-1</td><td>11</td><td>35</td><td>235</td><td>215</td><td>199</td><td>1448</td><td>254</td><td>5</td><td>320</td><td>259</td><td>-21</td><td>0</td><td>0</td><td>null</td><td>null</td><td>null</td><td>null</td><td>null</td><td>null</td><td>Alaska Airlines Inc.</td></tr><tr><td>2015</td><td>1</td><td>1</td><td>4</td><td>806</td><td>N3730B</td><td>SFO</td><td>MSP</td><td>25</td><td>20</td><td>-5</td><td>18</td><td>38</td><td>217</td><td>230</td><td>206</td><td>1589</td><td>604</td><td>6</td><td>602</td><td>610</td><td>8</td><td>0</td><td>0</td><td>null</td><td>null</td><td>null</td><td>null</td><td>null</td><td>null</td><td>Delta Air Lines Inc.</td></tr><tr><td>2015</td><td>1</td><td>1</td><td>4</td><td>612</td><td>N635NK</td><td>LAS</td><td>MSP</td><td>25</td><td>19</td><td>-6</td><td>11</td><td>30</td><td>181</td><td>170</td><td>154</td><td>1299</td><td>504</td><td>5</td><td>526</td><td>509</td><td>-17</td><td>0</td><td>0</td><td>null</td><td>null</td><td>null</td><td>null</td><td>null</td><td>null</td><td>Spirit Air Lines</td></tr><tr><td>2015</td><td>1</td><td>1</td><td>4</td><td>2013</td><td>N584UW</td><td>LAX</td><td>CLT</td><td>30</td><td>44</td><td>14</td><td>13</td><td>57</td><td>273</td><td>249</td><td>228</td><td>2125</td><td>745</td><td>8</td><td>803</td><td>753</td><td>-10</td><td>0</td><td>0</td><td>null</td><td>null</td><td>null</td><td>null</td><td>null</td><td>null</td><td>US Airways Inc.</td></tr><tr><td>2015</td><td>1</td><td>1</td><td>4</td><td>1112</td><td>N3LAAA</td><td>SFO</td><td>DFW</td><td>30</td><td>19</td><td>-11</td><td>17</td><td>36</td><td>195</td><td>193</td><td>173</td><td>1464</td><td>529</td><td>3</td><td>545</td><td>532</td><td>-13</td><td>0</td><td>0</td><td>null</td><td>null</td><td>null</td><td>null</td><td>null</td><td>null</td><td>American Airlines Inc.</td></tr><tr><td>2015</td><td>1</td><td>1</td><td>4</td><td>1173</td><td>N826DN</td><td>LAS</td><td>ATL</td><td>30</td><td>33</td><td>3</td><td>12</td><td>45</td><td>221</td><td>203</td><td>186</td><td>1747</td><td>651</td><td>5</td><td>711</td><td>656</td><td>-15</td><td>0</td><td>0</td><td>null</td><td>null</td><td>null</td><td>null</td><td>null</td><td>null</td><td>Delta Air Lines Inc.</td></tr></tbody></table></div>"
      ]
     },
     "metadata": {
      "application/vnd.databricks.v1+output": {
       "addedWidgets": {},
       "aggData": [],
       "aggError": "",
       "aggOverflow": false,
       "aggSchema": [],
       "aggSeriesLimitReached": false,
       "aggType": "",
       "arguments": {},
       "columnCustomDisplayInfos": {},
       "data": [
        [
         2015,
         1,
         1,
         4,
         98,
         "N407AS",
         "ANC",
         "SEA",
         5,
         2354,
         -11,
         21,
         15,
         205,
         194,
         169,
         1448,
         404,
         4,
         430,
         408,
         -22,
         0,
         0,
         null,
         null,
         null,
         null,
         null,
         null,
         "Alaska Airlines Inc."
        ],
        [
         2015,
         1,
         1,
         4,
         2336,
         "N3KUAA",
         "LAX",
         "PBI",
         10,
         2,
         -8,
         12,
         14,
         280,
         279,
         263,
         2330,
         737,
         4,
         750,
         741,
         -9,
         0,
         0,
         null,
         null,
         null,
         null,
         null,
         null,
         "American Airlines Inc."
        ],
        [
         2015,
         1,
         1,
         4,
         840,
         "N171US",
         "SFO",
         "CLT",
         20,
         18,
         -2,
         16,
         34,
         286,
         293,
         266,
         2296,
         800,
         11,
         806,
         811,
         5,
         0,
         0,
         null,
         null,
         null,
         null,
         null,
         null,
         "US Airways Inc."
        ],
        [
         2015,
         1,
         1,
         4,
         258,
         "N3HYAA",
         "LAX",
         "MIA",
         20,
         15,
         -5,
         15,
         30,
         285,
         281,
         258,
         2342,
         748,
         8,
         805,
         756,
         -9,
         0,
         0,
         null,
         null,
         null,
         null,
         null,
         null,
         "American Airlines Inc."
        ],
        [
         2015,
         1,
         1,
         4,
         135,
         "N527AS",
         "SEA",
         "ANC",
         25,
         24,
         -1,
         11,
         35,
         235,
         215,
         199,
         1448,
         254,
         5,
         320,
         259,
         -21,
         0,
         0,
         null,
         null,
         null,
         null,
         null,
         null,
         "Alaska Airlines Inc."
        ],
        [
         2015,
         1,
         1,
         4,
         806,
         "N3730B",
         "SFO",
         "MSP",
         25,
         20,
         -5,
         18,
         38,
         217,
         230,
         206,
         1589,
         604,
         6,
         602,
         610,
         8,
         0,
         0,
         null,
         null,
         null,
         null,
         null,
         null,
         "Delta Air Lines Inc."
        ],
        [
         2015,
         1,
         1,
         4,
         612,
         "N635NK",
         "LAS",
         "MSP",
         25,
         19,
         -6,
         11,
         30,
         181,
         170,
         154,
         1299,
         504,
         5,
         526,
         509,
         -17,
         0,
         0,
         null,
         null,
         null,
         null,
         null,
         null,
         "Spirit Air Lines"
        ],
        [
         2015,
         1,
         1,
         4,
         2013,
         "N584UW",
         "LAX",
         "CLT",
         30,
         44,
         14,
         13,
         57,
         273,
         249,
         228,
         2125,
         745,
         8,
         803,
         753,
         -10,
         0,
         0,
         null,
         null,
         null,
         null,
         null,
         null,
         "US Airways Inc."
        ],
        [
         2015,
         1,
         1,
         4,
         1112,
         "N3LAAA",
         "SFO",
         "DFW",
         30,
         19,
         -11,
         17,
         36,
         195,
         193,
         173,
         1464,
         529,
         3,
         545,
         532,
         -13,
         0,
         0,
         null,
         null,
         null,
         null,
         null,
         null,
         "American Airlines Inc."
        ],
        [
         2015,
         1,
         1,
         4,
         1173,
         "N826DN",
         "LAS",
         "ATL",
         30,
         33,
         3,
         12,
         45,
         221,
         203,
         186,
         1747,
         651,
         5,
         711,
         656,
         -15,
         0,
         0,
         null,
         null,
         null,
         null,
         null,
         null,
         "Delta Air Lines Inc."
        ]
       ],
       "datasetInfos": [],
       "dbfsResultPath": null,
       "isJsonSchema": true,
       "metadata": {},
       "overflow": false,
       "plotOptions": {
        "customPlotOptions": {},
        "displayType": "table",
        "pivotAggregation": null,
        "pivotColumns": null,
        "xColumns": null,
        "yColumns": null
       },
       "removedWidgets": [],
       "schema": [
        {
         "metadata": "{}",
         "name": "YEAR",
         "type": "\"integer\""
        },
        {
         "metadata": "{}",
         "name": "MONTH",
         "type": "\"integer\""
        },
        {
         "metadata": "{}",
         "name": "DAY",
         "type": "\"integer\""
        },
        {
         "metadata": "{}",
         "name": "DAY_OF_WEEK",
         "type": "\"integer\""
        },
        {
         "metadata": "{}",
         "name": "FLIGHT_NUMBER",
         "type": "\"integer\""
        },
        {
         "metadata": "{}",
         "name": "TAIL_NUMBER",
         "type": "\"string\""
        },
        {
         "metadata": "{}",
         "name": "ORIGIN_AIRPORT",
         "type": "\"string\""
        },
        {
         "metadata": "{}",
         "name": "DESTINATION_AIRPORT",
         "type": "\"string\""
        },
        {
         "metadata": "{}",
         "name": "SCHEDULED_DEPARTURE",
         "type": "\"integer\""
        },
        {
         "metadata": "{}",
         "name": "DEPARTURE_TIME",
         "type": "\"integer\""
        },
        {
         "metadata": "{}",
         "name": "DEPARTURE_DELAY",
         "type": "\"integer\""
        },
        {
         "metadata": "{}",
         "name": "TAXI_OUT",
         "type": "\"integer\""
        },
        {
         "metadata": "{}",
         "name": "WHEELS_OFF",
         "type": "\"integer\""
        },
        {
         "metadata": "{}",
         "name": "SCHEDULED_TIME",
         "type": "\"integer\""
        },
        {
         "metadata": "{}",
         "name": "ELAPSED_TIME",
         "type": "\"integer\""
        },
        {
         "metadata": "{}",
         "name": "AIR_TIME",
         "type": "\"integer\""
        },
        {
         "metadata": "{}",
         "name": "DISTANCE",
         "type": "\"integer\""
        },
        {
         "metadata": "{}",
         "name": "WHEELS_ON",
         "type": "\"integer\""
        },
        {
         "metadata": "{}",
         "name": "TAXI_IN",
         "type": "\"integer\""
        },
        {
         "metadata": "{}",
         "name": "SCHEDULED_ARRIVAL",
         "type": "\"integer\""
        },
        {
         "metadata": "{}",
         "name": "ARRIVAL_TIME",
         "type": "\"integer\""
        },
        {
         "metadata": "{}",
         "name": "ARRIVAL_DELAY",
         "type": "\"integer\""
        },
        {
         "metadata": "{}",
         "name": "DIVERTED",
         "type": "\"integer\""
        },
        {
         "metadata": "{}",
         "name": "CANCELLED",
         "type": "\"integer\""
        },
        {
         "metadata": "{}",
         "name": "CANCELLATION_REASON",
         "type": "\"string\""
        },
        {
         "metadata": "{}",
         "name": "AIR_SYSTEM_DELAY",
         "type": "\"integer\""
        },
        {
         "metadata": "{}",
         "name": "SECURITY_DELAY",
         "type": "\"integer\""
        },
        {
         "metadata": "{}",
         "name": "AIRLINE_DELAY",
         "type": "\"integer\""
        },
        {
         "metadata": "{}",
         "name": "LATE_AIRCRAFT_DELAY",
         "type": "\"integer\""
        },
        {
         "metadata": "{}",
         "name": "WEATHER_DELAY",
         "type": "\"integer\""
        },
        {
         "metadata": "{}",
         "name": "AIRLINE_NAME",
         "type": "\"string\""
        }
       ],
       "type": "table"
      }
     },
     "output_type": "display_data"
    }
   ],
   "source": [
    "display(df.limit(10))"
   ]
  },
  {
   "cell_type": "markdown",
   "metadata": {
    "application/vnd.databricks.v1+cell": {
     "cellMetadata": {},
     "inputWidgets": {},
     "nuid": "a363c58e-a003-44d5-98cd-d0ecb65ddac6",
     "showTitle": false,
     "tableResultSettingsMap": {},
     "title": ""
    }
   },
   "source": [
    "**Q2. How many rows and columns does the dataset contain?**"
   ]
  },
  {
   "cell_type": "code",
   "execution_count": 0,
   "metadata": {
    "application/vnd.databricks.v1+cell": {
     "cellMetadata": {
      "byteLimit": 2048000,
      "rowLimit": 10000
     },
     "inputWidgets": {},
     "nuid": "2700fce1-e3c7-40ea-9f95-be614e8c8de9",
     "showTitle": false,
     "tableResultSettingsMap": {},
     "title": ""
    }
   },
   "outputs": [
    {
     "name": "stdout",
     "output_type": "stream",
     "text": [
      "Number of rows: 5819079\n",
      "Number of columns: 31\n"
     ]
    }
   ],
   "source": [
    "# Count the number of rows\n",
    "row_count = df.count()\n",
    "\n",
    "# Count the number of columns\n",
    "column_count = len(df.columns)\n",
    "\n",
    "print(f\"Number of rows: {row_count}\")\n",
    "print(f\"Number of columns: {column_count}\")"
   ]
  },
  {
   "cell_type": "markdown",
   "metadata": {
    "application/vnd.databricks.v1+cell": {
     "cellMetadata": {},
     "inputWidgets": {},
     "nuid": "d3ad2d59-1eb0-4b27-834d-c0d4c0248571",
     "showTitle": false,
     "tableResultSettingsMap": {},
     "title": ""
    }
   },
   "source": [
    "## Data Cleaning and Transformation "
   ]
  },
  {
   "cell_type": "markdown",
   "metadata": {
    "application/vnd.databricks.v1+cell": {
     "cellMetadata": {},
     "inputWidgets": {},
     "nuid": "dc8ccbf1-790d-4218-93db-3e48bdaf8b91",
     "showTitle": false,
     "tableResultSettingsMap": {},
     "title": ""
    }
   },
   "source": [
    "**Q3. Which columns have missing values, and how can you handle them?**"
   ]
  },
  {
   "cell_type": "code",
   "execution_count": 0,
   "metadata": {
    "application/vnd.databricks.v1+cell": {
     "cellMetadata": {
      "byteLimit": 2048000,
      "rowLimit": 10000
     },
     "inputWidgets": {},
     "nuid": "db0d1d02-46dd-415c-b70f-464273a821b0",
     "showTitle": false,
     "tableResultSettingsMap": {},
     "title": ""
    }
   },
   "outputs": [
    {
     "name": "stdout",
     "output_type": "stream",
     "text": [
      "Missing values per column:\n",
      "YEAR: 0\n",
      "MONTH: 0\n",
      "DAY: 0\n",
      "DAY_OF_WEEK: 0\n",
      "FLIGHT_NUMBER: 0\n",
      "TAIL_NUMBER: 14721\n",
      "ORIGIN_AIRPORT: 0\n",
      "DESTINATION_AIRPORT: 0\n",
      "SCHEDULED_DEPARTURE: 0\n",
      "DEPARTURE_TIME: 86153\n",
      "DEPARTURE_DELAY: 86153\n",
      "TAXI_OUT: 89047\n",
      "WHEELS_OFF: 89047\n",
      "SCHEDULED_TIME: 6\n",
      "ELAPSED_TIME: 105071\n",
      "AIR_TIME: 105071\n",
      "DISTANCE: 0\n",
      "WHEELS_ON: 92513\n",
      "TAXI_IN: 92513\n",
      "SCHEDULED_ARRIVAL: 0\n",
      "ARRIVAL_TIME: 92513\n",
      "ARRIVAL_DELAY: 105071\n",
      "DIVERTED: 0\n",
      "CANCELLED: 0\n",
      "CANCELLATION_REASON: 5729195\n",
      "AIR_SYSTEM_DELAY: 4755640\n",
      "SECURITY_DELAY: 4755640\n",
      "AIRLINE_DELAY: 4755640\n",
      "LATE_AIRCRAFT_DELAY: 4755640\n",
      "WEATHER_DELAY: 4755640\n",
      "AIRLINE_NAME: 0\n"
     ]
    }
   ],
   "source": [
    "from pyspark.sql.functions import col, count, when\n",
    "\n",
    "# Counting nulls in each column\n",
    "missing_values = df.select([count(when(col(c).isNull(), c)).alias(c) for c in df.columns])\n",
    "\n",
    "# Collect the result as a list\n",
    "missing_values_list = missing_values.collect()[0].asDict()\n",
    "\n",
    "# Print the missing values with the column name\n",
    "print(\"Missing values per column:\")\n",
    "for column, missing_count in missing_values_list.items():\n",
    "    print(f\"{column}: {missing_count}\")"
   ]
  },
  {
   "cell_type": "code",
   "execution_count": 0,
   "metadata": {
    "application/vnd.databricks.v1+cell": {
     "cellMetadata": {
      "byteLimit": 2048000,
      "rowLimit": 10000
     },
     "inputWidgets": {},
     "nuid": "0ca58148-b862-4f77-b190-8804268e8adf",
     "showTitle": false,
     "tableResultSettingsMap": {},
     "title": ""
    }
   },
   "outputs": [],
   "source": [
    "columns_to_drop = [\n",
    "    'CANCELLATION_REASON', 'AIR_SYSTEM_DELAY', 'SECURITY_DELAY', \n",
    "    'AIRLINE_DELAY', 'LATE_AIRCRAFT_DELAY', 'WEATHER_DELAY'\n",
    "]\n",
    "df = df.drop(*columns_to_drop)"
   ]
  },
  {
   "cell_type": "markdown",
   "metadata": {
    "application/vnd.databricks.v1+cell": {
     "cellMetadata": {},
     "inputWidgets": {},
     "nuid": "4d349bda-3f68-4edb-87c9-b8c49aa4395f",
     "showTitle": false,
     "tableResultSettingsMap": {},
     "title": ""
    }
   },
   "source": [
    "**Dropping columns with excessive missing values since these columns will not be useful for analysis**"
   ]
  },
  {
   "cell_type": "code",
   "execution_count": 0,
   "metadata": {
    "application/vnd.databricks.v1+cell": {
     "cellMetadata": {
      "byteLimit": 2048000,
      "rowLimit": 10000
     },
     "inputWidgets": {},
     "nuid": "edd1b0bd-4d9c-4060-9eb8-dc78739363a9",
     "showTitle": false,
     "tableResultSettingsMap": {},
     "title": ""
    }
   },
   "outputs": [],
   "source": [
    "df = df.dropna(subset=['TAIL_NUMBER'])"
   ]
  },
  {
   "cell_type": "markdown",
   "metadata": {
    "application/vnd.databricks.v1+cell": {
     "cellMetadata": {},
     "inputWidgets": {},
     "nuid": "868b6554-c40f-41d0-9d09-530a5dc11fa4",
     "showTitle": false,
     "tableResultSettingsMap": {},
     "title": ""
    }
   },
   "source": [
    "**Missing values in TAIL_NUMBER are dropped because this is a crucial identifier for aircraft, and rows without it might not be reliable**"
   ]
  },
  {
   "cell_type": "code",
   "execution_count": 0,
   "metadata": {
    "application/vnd.databricks.v1+cell": {
     "cellMetadata": {
      "byteLimit": 2048000,
      "rowLimit": 10000
     },
     "inputWidgets": {},
     "nuid": "96a610b0-dd85-4952-806d-96c80404f1f5",
     "showTitle": false,
     "tableResultSettingsMap": {},
     "title": ""
    }
   },
   "outputs": [],
   "source": [
    "df = df.fillna({\n",
    "    'SCHEDULED_TIME': 0,\n",
    "    'ELAPSED_TIME': 0,\n",
    "    'WHEELS_OFF': 0,\n",
    "    'WHEELS_ON': 0,\n",
    "    'DEPARTURE_TIME': 0,\n",
    "    'DEPARTURE_DELAY': 0,  \n",
    "    'ARRIVAL_DELAY': 0,    \n",
    "    'AIR_TIME': 0,         \n",
    "    'TAXI_OUT': 0,        \n",
    "    'TAXI_IN': 0,          \n",
    "    'ARRIVAL_TIME': 0,     \n",
    "})"
   ]
  },
  {
   "cell_type": "markdown",
   "metadata": {
    "application/vnd.databricks.v1+cell": {
     "cellMetadata": {},
     "inputWidgets": {},
     "nuid": "015b9430-b5ab-4a0f-acc2-aae07af68062",
     "showTitle": false,
     "tableResultSettingsMap": {},
     "title": ""
    }
   },
   "source": [
    "**These columns have a significant number of missing values. We can fill them with 0, as missing values here could imply no recorded data (perhaps due to flight cancellations or scheduling issues)**"
   ]
  },
  {
   "cell_type": "code",
   "execution_count": 0,
   "metadata": {
    "application/vnd.databricks.v1+cell": {
     "cellMetadata": {
      "byteLimit": 2048000,
      "rowLimit": 10000
     },
     "inputWidgets": {},
     "nuid": "fddc744f-1f94-419c-81e9-cebaf254b8fa",
     "showTitle": false,
     "tableResultSettingsMap": {},
     "title": ""
    }
   },
   "outputs": [
    {
     "name": "stdout",
     "output_type": "stream",
     "text": [
      "Missing values per column:\n",
      "YEAR: 0\n",
      "MONTH: 0\n",
      "DAY: 0\n",
      "DAY_OF_WEEK: 0\n",
      "FLIGHT_NUMBER: 0\n",
      "TAIL_NUMBER: 0\n",
      "ORIGIN_AIRPORT: 0\n",
      "DESTINATION_AIRPORT: 0\n",
      "SCHEDULED_DEPARTURE: 0\n",
      "DEPARTURE_TIME: 0\n",
      "DEPARTURE_DELAY: 0\n",
      "TAXI_OUT: 0\n",
      "WHEELS_OFF: 0\n",
      "SCHEDULED_TIME: 0\n",
      "ELAPSED_TIME: 0\n",
      "AIR_TIME: 0\n",
      "DISTANCE: 0\n",
      "WHEELS_ON: 0\n",
      "TAXI_IN: 0\n",
      "SCHEDULED_ARRIVAL: 0\n",
      "ARRIVAL_TIME: 0\n",
      "ARRIVAL_DELAY: 0\n",
      "DIVERTED: 0\n",
      "CANCELLED: 0\n",
      "AIRLINE_NAME: 0\n"
     ]
    }
   ],
   "source": [
    "# Counting nulls in each column\n",
    "updated_missing_values = df.select([count(when(col(c).isNull(), c)).alias(c) for c in df.columns])\n",
    "\n",
    "# Collect the result as a list\n",
    "updated_missing_values_list = updated_missing_values.collect()[0].asDict()\n",
    "\n",
    "# Print the missing values in a schema-like format\n",
    "print(\"Missing values per column:\")\n",
    "for column, updated_missing_count in updated_missing_values_list.items():\n",
    "    print(f\"{column}: {updated_missing_count}\")"
   ]
  },
  {
   "cell_type": "markdown",
   "metadata": {
    "application/vnd.databricks.v1+cell": {
     "cellMetadata": {},
     "inputWidgets": {},
     "nuid": "79369c2a-2167-484d-84fc-e0c976f4cc5e",
     "showTitle": false,
     "tableResultSettingsMap": {},
     "title": ""
    }
   },
   "source": [
    "**Q4. What new features did you create, and why?**"
   ]
  },
  {
   "cell_type": "code",
   "execution_count": 0,
   "metadata": {
    "application/vnd.databricks.v1+cell": {
     "cellMetadata": {
      "byteLimit": 2048000,
      "rowLimit": 10000
     },
     "inputWidgets": {},
     "nuid": "056d3824-cf93-4f4a-96bc-854afa7e0f8c",
     "showTitle": false,
     "tableResultSettingsMap": {},
     "title": ""
    }
   },
   "outputs": [],
   "source": [
    "def get_time_of_day(departure_time):\n",
    "    hour = (departure_time // 100) % 24\n",
    "    if 5 <= hour < 12:\n",
    "        return 'Morning'\n",
    "    elif 12 <= hour < 17:\n",
    "        return 'Afternoon'\n",
    "    elif 17 <= hour < 21:\n",
    "        return 'Evening'\n",
    "    else:\n",
    "        return 'Night'\n",
    "\n",
    "df = df.withColumn('TIME_OF_DAY', F.udf(get_time_of_day)(F.col('SCHEDULED_DEPARTURE')))"
   ]
  },
  {
   "cell_type": "markdown",
   "metadata": {
    "application/vnd.databricks.v1+cell": {
     "cellMetadata": {},
     "inputWidgets": {},
     "nuid": "0db227f6-3bf6-4e58-ac83-a326d7ef55ad",
     "showTitle": false,
     "tableResultSettingsMap": {},
     "title": ""
    }
   },
   "source": [
    "**Categorizing the SCHEDULED_DEPARTURE and DEPARTURE_TIME into time of day (Morning, Afternoon, Evening, Night). This may help capture time-of-day-specific patterns**"
   ]
  },
  {
   "cell_type": "code",
   "execution_count": 0,
   "metadata": {
    "application/vnd.databricks.v1+cell": {
     "cellMetadata": {
      "byteLimit": 2048000,
      "rowLimit": 10000
     },
     "inputWidgets": {},
     "nuid": "e734f4ad-9dd8-4a03-a33d-e22d71d99c50",
     "showTitle": false,
     "tableResultSettingsMap": {},
     "title": ""
    }
   },
   "outputs": [],
   "source": [
    "df = df.withColumn('TOTAL_DELAY', F.col('DEPARTURE_DELAY') + F.col('ARRIVAL_DELAY'))"
   ]
  },
  {
   "cell_type": "markdown",
   "metadata": {
    "application/vnd.databricks.v1+cell": {
     "cellMetadata": {},
     "inputWidgets": {},
     "nuid": "2fcff0c0-e063-4b1b-b17e-f2ebb1eebd9a",
     "showTitle": false,
     "tableResultSettingsMap": {},
     "title": ""
    }
   },
   "source": [
    "**This feature will give a comprehensive understanding of the overall delay, incorporating both departure and arrival delays. It's crucial for predicting delays and understanding how they affect flight performance.**"
   ]
  },
  {
   "cell_type": "code",
   "execution_count": 0,
   "metadata": {
    "application/vnd.databricks.v1+cell": {
     "cellMetadata": {
      "byteLimit": 2048000,
      "rowLimit": 10000
     },
     "inputWidgets": {},
     "nuid": "ddb37872-831e-4ae8-95f8-fa9539db6d8f",
     "showTitle": false,
     "tableResultSettingsMap": {},
     "title": ""
    }
   },
   "outputs": [],
   "source": [
    "df = df.withColumn('EFFICIENCY_RATIO', F.col('AIR_TIME') / F.col('DISTANCE'))"
   ]
  },
  {
   "cell_type": "markdown",
   "metadata": {
    "application/vnd.databricks.v1+cell": {
     "cellMetadata": {},
     "inputWidgets": {},
     "nuid": "e2ef54ea-5a31-4de2-ab60-308eb54ebb16",
     "showTitle": false,
     "tableResultSettingsMap": {},
     "title": ""
    }
   },
   "source": [
    "**This feature measures how efficiently a flight was executed. It can reveal insights into potential delays caused by inefficient flights, such as slower-than-usual travel or unusual detours. It's particularly useful in understanding flight patterns and anomalies.**"
   ]
  },
  {
   "cell_type": "code",
   "execution_count": 0,
   "metadata": {
    "application/vnd.databricks.v1+cell": {
     "cellMetadata": {
      "byteLimit": 2048000,
      "rowLimit": 10000
     },
     "inputWidgets": {},
     "nuid": "a6102ced-dc19-42c6-b313-48dc10c5035d",
     "showTitle": false,
     "tableResultSettingsMap": {},
     "title": ""
    }
   },
   "outputs": [
    {
     "data": {
      "text/html": [
       "<style scoped>\n",
       "  .table-result-container {\n",
       "    max-height: 300px;\n",
       "    overflow: auto;\n",
       "  }\n",
       "  table, th, td {\n",
       "    border: 1px solid black;\n",
       "    border-collapse: collapse;\n",
       "  }\n",
       "  th, td {\n",
       "    padding: 5px;\n",
       "  }\n",
       "  th {\n",
       "    text-align: left;\n",
       "  }\n",
       "</style><div class='table-result-container'><table class='table-result'><thead style='background-color: white'><tr><th>YEAR</th><th>MONTH</th><th>DAY</th><th>DAY_OF_WEEK</th><th>FLIGHT_NUMBER</th><th>TAIL_NUMBER</th><th>ORIGIN_AIRPORT</th><th>DESTINATION_AIRPORT</th><th>SCHEDULED_DEPARTURE</th><th>DEPARTURE_TIME</th><th>DEPARTURE_DELAY</th><th>TAXI_OUT</th><th>WHEELS_OFF</th><th>SCHEDULED_TIME</th><th>ELAPSED_TIME</th><th>AIR_TIME</th><th>DISTANCE</th><th>WHEELS_ON</th><th>TAXI_IN</th><th>SCHEDULED_ARRIVAL</th><th>ARRIVAL_TIME</th><th>ARRIVAL_DELAY</th><th>DIVERTED</th><th>CANCELLED</th><th>AIRLINE_NAME</th><th>TIME_OF_DAY</th><th>TOTAL_DELAY</th><th>EFFICIENCY_RATIO</th></tr></thead><tbody><tr><td>2015</td><td>1</td><td>1</td><td>4</td><td>98</td><td>N407AS</td><td>ANC</td><td>SEA</td><td>5</td><td>2354</td><td>-11</td><td>21</td><td>15</td><td>205</td><td>194</td><td>169</td><td>1448</td><td>404</td><td>4</td><td>430</td><td>408</td><td>-22</td><td>0</td><td>0</td><td>Alaska Airlines Inc.</td><td>Night</td><td>-33</td><td>0.11671270718232044</td></tr><tr><td>2015</td><td>1</td><td>1</td><td>4</td><td>2336</td><td>N3KUAA</td><td>LAX</td><td>PBI</td><td>10</td><td>2</td><td>-8</td><td>12</td><td>14</td><td>280</td><td>279</td><td>263</td><td>2330</td><td>737</td><td>4</td><td>750</td><td>741</td><td>-9</td><td>0</td><td>0</td><td>American Airlines Inc.</td><td>Night</td><td>-17</td><td>0.1128755364806867</td></tr><tr><td>2015</td><td>1</td><td>1</td><td>4</td><td>840</td><td>N171US</td><td>SFO</td><td>CLT</td><td>20</td><td>18</td><td>-2</td><td>16</td><td>34</td><td>286</td><td>293</td><td>266</td><td>2296</td><td>800</td><td>11</td><td>806</td><td>811</td><td>5</td><td>0</td><td>0</td><td>US Airways Inc.</td><td>Night</td><td>3</td><td>0.11585365853658537</td></tr><tr><td>2015</td><td>1</td><td>1</td><td>4</td><td>258</td><td>N3HYAA</td><td>LAX</td><td>MIA</td><td>20</td><td>15</td><td>-5</td><td>15</td><td>30</td><td>285</td><td>281</td><td>258</td><td>2342</td><td>748</td><td>8</td><td>805</td><td>756</td><td>-9</td><td>0</td><td>0</td><td>American Airlines Inc.</td><td>Night</td><td>-14</td><td>0.11016225448334757</td></tr><tr><td>2015</td><td>1</td><td>1</td><td>4</td><td>135</td><td>N527AS</td><td>SEA</td><td>ANC</td><td>25</td><td>24</td><td>-1</td><td>11</td><td>35</td><td>235</td><td>215</td><td>199</td><td>1448</td><td>254</td><td>5</td><td>320</td><td>259</td><td>-21</td><td>0</td><td>0</td><td>Alaska Airlines Inc.</td><td>Night</td><td>-22</td><td>0.13743093922651933</td></tr><tr><td>2015</td><td>1</td><td>1</td><td>4</td><td>806</td><td>N3730B</td><td>SFO</td><td>MSP</td><td>25</td><td>20</td><td>-5</td><td>18</td><td>38</td><td>217</td><td>230</td><td>206</td><td>1589</td><td>604</td><td>6</td><td>602</td><td>610</td><td>8</td><td>0</td><td>0</td><td>Delta Air Lines Inc.</td><td>Night</td><td>3</td><td>0.12964128382630585</td></tr><tr><td>2015</td><td>1</td><td>1</td><td>4</td><td>612</td><td>N635NK</td><td>LAS</td><td>MSP</td><td>25</td><td>19</td><td>-6</td><td>11</td><td>30</td><td>181</td><td>170</td><td>154</td><td>1299</td><td>504</td><td>5</td><td>526</td><td>509</td><td>-17</td><td>0</td><td>0</td><td>Spirit Air Lines</td><td>Night</td><td>-23</td><td>0.11855273287143957</td></tr><tr><td>2015</td><td>1</td><td>1</td><td>4</td><td>2013</td><td>N584UW</td><td>LAX</td><td>CLT</td><td>30</td><td>44</td><td>14</td><td>13</td><td>57</td><td>273</td><td>249</td><td>228</td><td>2125</td><td>745</td><td>8</td><td>803</td><td>753</td><td>-10</td><td>0</td><td>0</td><td>US Airways Inc.</td><td>Night</td><td>4</td><td>0.10729411764705882</td></tr><tr><td>2015</td><td>1</td><td>1</td><td>4</td><td>1112</td><td>N3LAAA</td><td>SFO</td><td>DFW</td><td>30</td><td>19</td><td>-11</td><td>17</td><td>36</td><td>195</td><td>193</td><td>173</td><td>1464</td><td>529</td><td>3</td><td>545</td><td>532</td><td>-13</td><td>0</td><td>0</td><td>American Airlines Inc.</td><td>Night</td><td>-24</td><td>0.11816939890710383</td></tr><tr><td>2015</td><td>1</td><td>1</td><td>4</td><td>1173</td><td>N826DN</td><td>LAS</td><td>ATL</td><td>30</td><td>33</td><td>3</td><td>12</td><td>45</td><td>221</td><td>203</td><td>186</td><td>1747</td><td>651</td><td>5</td><td>711</td><td>656</td><td>-15</td><td>0</td><td>0</td><td>Delta Air Lines Inc.</td><td>Night</td><td>-12</td><td>0.10646823125357756</td></tr></tbody></table></div>"
      ]
     },
     "metadata": {
      "application/vnd.databricks.v1+output": {
       "addedWidgets": {},
       "aggData": [],
       "aggError": "",
       "aggOverflow": false,
       "aggSchema": [],
       "aggSeriesLimitReached": false,
       "aggType": "",
       "arguments": {},
       "columnCustomDisplayInfos": {},
       "data": [
        [
         2015,
         1,
         1,
         4,
         98,
         "N407AS",
         "ANC",
         "SEA",
         5,
         2354,
         -11,
         21,
         15,
         205,
         194,
         169,
         1448,
         404,
         4,
         430,
         408,
         -22,
         0,
         0,
         "Alaska Airlines Inc.",
         "Night",
         -33,
         0.11671270718232044
        ],
        [
         2015,
         1,
         1,
         4,
         2336,
         "N3KUAA",
         "LAX",
         "PBI",
         10,
         2,
         -8,
         12,
         14,
         280,
         279,
         263,
         2330,
         737,
         4,
         750,
         741,
         -9,
         0,
         0,
         "American Airlines Inc.",
         "Night",
         -17,
         0.1128755364806867
        ],
        [
         2015,
         1,
         1,
         4,
         840,
         "N171US",
         "SFO",
         "CLT",
         20,
         18,
         -2,
         16,
         34,
         286,
         293,
         266,
         2296,
         800,
         11,
         806,
         811,
         5,
         0,
         0,
         "US Airways Inc.",
         "Night",
         3,
         0.11585365853658537
        ],
        [
         2015,
         1,
         1,
         4,
         258,
         "N3HYAA",
         "LAX",
         "MIA",
         20,
         15,
         -5,
         15,
         30,
         285,
         281,
         258,
         2342,
         748,
         8,
         805,
         756,
         -9,
         0,
         0,
         "American Airlines Inc.",
         "Night",
         -14,
         0.11016225448334757
        ],
        [
         2015,
         1,
         1,
         4,
         135,
         "N527AS",
         "SEA",
         "ANC",
         25,
         24,
         -1,
         11,
         35,
         235,
         215,
         199,
         1448,
         254,
         5,
         320,
         259,
         -21,
         0,
         0,
         "Alaska Airlines Inc.",
         "Night",
         -22,
         0.13743093922651933
        ],
        [
         2015,
         1,
         1,
         4,
         806,
         "N3730B",
         "SFO",
         "MSP",
         25,
         20,
         -5,
         18,
         38,
         217,
         230,
         206,
         1589,
         604,
         6,
         602,
         610,
         8,
         0,
         0,
         "Delta Air Lines Inc.",
         "Night",
         3,
         0.12964128382630585
        ],
        [
         2015,
         1,
         1,
         4,
         612,
         "N635NK",
         "LAS",
         "MSP",
         25,
         19,
         -6,
         11,
         30,
         181,
         170,
         154,
         1299,
         504,
         5,
         526,
         509,
         -17,
         0,
         0,
         "Spirit Air Lines",
         "Night",
         -23,
         0.11855273287143957
        ],
        [
         2015,
         1,
         1,
         4,
         2013,
         "N584UW",
         "LAX",
         "CLT",
         30,
         44,
         14,
         13,
         57,
         273,
         249,
         228,
         2125,
         745,
         8,
         803,
         753,
         -10,
         0,
         0,
         "US Airways Inc.",
         "Night",
         4,
         0.10729411764705882
        ],
        [
         2015,
         1,
         1,
         4,
         1112,
         "N3LAAA",
         "SFO",
         "DFW",
         30,
         19,
         -11,
         17,
         36,
         195,
         193,
         173,
         1464,
         529,
         3,
         545,
         532,
         -13,
         0,
         0,
         "American Airlines Inc.",
         "Night",
         -24,
         0.11816939890710383
        ],
        [
         2015,
         1,
         1,
         4,
         1173,
         "N826DN",
         "LAS",
         "ATL",
         30,
         33,
         3,
         12,
         45,
         221,
         203,
         186,
         1747,
         651,
         5,
         711,
         656,
         -15,
         0,
         0,
         "Delta Air Lines Inc.",
         "Night",
         -12,
         0.10646823125357756
        ]
       ],
       "datasetInfos": [],
       "dbfsResultPath": null,
       "isJsonSchema": true,
       "metadata": {},
       "overflow": false,
       "plotOptions": {
        "customPlotOptions": {},
        "displayType": "table",
        "pivotAggregation": null,
        "pivotColumns": null,
        "xColumns": null,
        "yColumns": null
       },
       "removedWidgets": [],
       "schema": [
        {
         "metadata": "{}",
         "name": "YEAR",
         "type": "\"integer\""
        },
        {
         "metadata": "{}",
         "name": "MONTH",
         "type": "\"integer\""
        },
        {
         "metadata": "{}",
         "name": "DAY",
         "type": "\"integer\""
        },
        {
         "metadata": "{}",
         "name": "DAY_OF_WEEK",
         "type": "\"integer\""
        },
        {
         "metadata": "{}",
         "name": "FLIGHT_NUMBER",
         "type": "\"integer\""
        },
        {
         "metadata": "{}",
         "name": "TAIL_NUMBER",
         "type": "\"string\""
        },
        {
         "metadata": "{}",
         "name": "ORIGIN_AIRPORT",
         "type": "\"string\""
        },
        {
         "metadata": "{}",
         "name": "DESTINATION_AIRPORT",
         "type": "\"string\""
        },
        {
         "metadata": "{}",
         "name": "SCHEDULED_DEPARTURE",
         "type": "\"integer\""
        },
        {
         "metadata": "{}",
         "name": "DEPARTURE_TIME",
         "type": "\"integer\""
        },
        {
         "metadata": "{}",
         "name": "DEPARTURE_DELAY",
         "type": "\"integer\""
        },
        {
         "metadata": "{}",
         "name": "TAXI_OUT",
         "type": "\"integer\""
        },
        {
         "metadata": "{}",
         "name": "WHEELS_OFF",
         "type": "\"integer\""
        },
        {
         "metadata": "{}",
         "name": "SCHEDULED_TIME",
         "type": "\"integer\""
        },
        {
         "metadata": "{}",
         "name": "ELAPSED_TIME",
         "type": "\"integer\""
        },
        {
         "metadata": "{}",
         "name": "AIR_TIME",
         "type": "\"integer\""
        },
        {
         "metadata": "{}",
         "name": "DISTANCE",
         "type": "\"integer\""
        },
        {
         "metadata": "{}",
         "name": "WHEELS_ON",
         "type": "\"integer\""
        },
        {
         "metadata": "{}",
         "name": "TAXI_IN",
         "type": "\"integer\""
        },
        {
         "metadata": "{}",
         "name": "SCHEDULED_ARRIVAL",
         "type": "\"integer\""
        },
        {
         "metadata": "{}",
         "name": "ARRIVAL_TIME",
         "type": "\"integer\""
        },
        {
         "metadata": "{}",
         "name": "ARRIVAL_DELAY",
         "type": "\"integer\""
        },
        {
         "metadata": "{}",
         "name": "DIVERTED",
         "type": "\"integer\""
        },
        {
         "metadata": "{}",
         "name": "CANCELLED",
         "type": "\"integer\""
        },
        {
         "metadata": "{}",
         "name": "AIRLINE_NAME",
         "type": "\"string\""
        },
        {
         "metadata": "{}",
         "name": "TIME_OF_DAY",
         "type": "\"string\""
        },
        {
         "metadata": "{}",
         "name": "TOTAL_DELAY",
         "type": "\"integer\""
        },
        {
         "metadata": "{}",
         "name": "EFFICIENCY_RATIO",
         "type": "\"double\""
        }
       ],
       "type": "table"
      }
     },
     "output_type": "display_data"
    }
   ],
   "source": [
    "display(df.limit(10))"
   ]
  },
  {
   "cell_type": "markdown",
   "metadata": {
    "application/vnd.databricks.v1+cell": {
     "cellMetadata": {},
     "inputWidgets": {},
     "nuid": "5d589978-9906-45b5-aedf-9830a69458a2",
     "showTitle": false,
     "tableResultSettingsMap": {},
     "title": ""
    }
   },
   "source": [
    "## Exploratory Data Analysis (EDA) using Spark SQL "
   ]
  },
  {
   "cell_type": "code",
   "execution_count": 0,
   "metadata": {
    "application/vnd.databricks.v1+cell": {
     "cellMetadata": {
      "byteLimit": 2048000,
      "rowLimit": 10000
     },
     "inputWidgets": {},
     "nuid": "d46181ed-775b-4315-9bf1-38ba2df97938",
     "showTitle": false,
     "tableResultSettingsMap": {},
     "title": ""
    }
   },
   "outputs": [],
   "source": [
    "# Register DataFrame as a temporary SQL table\n",
    "df.createOrReplaceTempView(\"flights_table\")"
   ]
  },
  {
   "cell_type": "markdown",
   "metadata": {
    "application/vnd.databricks.v1+cell": {
     "cellMetadata": {},
     "inputWidgets": {},
     "nuid": "e86c2b34-eb3e-4d30-bc93-a9a477c22b9c",
     "showTitle": false,
     "tableResultSettingsMap": {},
     "title": ""
    }
   },
   "source": [
    "**Q5. Calculate the average delay time for each airline.**"
   ]
  },
  {
   "cell_type": "code",
   "execution_count": 0,
   "metadata": {
    "application/vnd.databricks.v1+cell": {
     "cellMetadata": {
      "byteLimit": 2048000,
      "rowLimit": 10000
     },
     "inputWidgets": {},
     "nuid": "9bcf9682-1012-49f0-86c5-2982c3c64f5a",
     "showTitle": false,
     "tableResultSettingsMap": {},
     "title": ""
    }
   },
   "outputs": [
    {
     "name": "stdout",
     "output_type": "stream",
     "text": [
      "+--------------------+-------------------+\n",
      "|        AIRLINE_NAME|AVG_DEPARTURE_DELAY|\n",
      "+--------------------+-------------------+\n",
      "|    Spirit Air Lines|             15.683|\n",
      "|United Air Lines ...|             14.435|\n",
      "|Frontier Airlines...|             13.351|\n",
      "|     JetBlue Airways|             11.333|\n",
      "|Southwest Airline...|             10.462|\n",
      "|American Eagle Ai...|              9.634|\n",
      "|      Virgin America|              8.947|\n",
      "|American Airlines...|              8.802|\n",
      "|Atlantic Southeas...|              8.493|\n",
      "|Skywest Airlines ...|               7.68|\n",
      "|Delta Air Lines Inc.|              7.338|\n",
      "|     US Airways Inc.|              6.141|\n",
      "|Alaska Airlines Inc.|              1.779|\n",
      "|Hawaiian Airlines...|              0.486|\n",
      "+--------------------+-------------------+\n",
      "\n"
     ]
    }
   ],
   "source": [
    "average_delay_query = \"\"\"\n",
    "SELECT AIRLINE_NAME, ROUND(AVG(DEPARTURE_DELAY), 3) AS AVG_DEPARTURE_DELAY\n",
    "FROM flights_table\n",
    "GROUP BY AIRLINE_NAME\n",
    "ORDER BY AVG_DEPARTURE_DELAY DESC\n",
    "\"\"\"\n",
    "\n",
    "average_delay_df = spark.sql(average_delay_query)\n",
    "average_delay_df.show()"
   ]
  },
  {
   "cell_type": "markdown",
   "metadata": {
    "application/vnd.databricks.v1+cell": {
     "cellMetadata": {},
     "inputWidgets": {},
     "nuid": "bbecc40c-0b59-47cb-941d-3c17783bfa56",
     "showTitle": false,
     "tableResultSettingsMap": {},
     "title": ""
    }
   },
   "source": [
    "**Q6. Identify the top 5 airports with the most delayed departures.**"
   ]
  },
  {
   "cell_type": "code",
   "execution_count": 0,
   "metadata": {
    "application/vnd.databricks.v1+cell": {
     "cellMetadata": {
      "byteLimit": 2048000,
      "rowLimit": 10000
     },
     "inputWidgets": {},
     "nuid": "42b0fd16-4195-46d0-b16f-96e3afd87f6b",
     "showTitle": false,
     "tableResultSettingsMap": {},
     "title": ""
    }
   },
   "outputs": [
    {
     "name": "stdout",
     "output_type": "stream",
     "text": [
      "+--------------+---------------------+\n",
      "|ORIGIN_AIRPORT|TOTAL_DEPARTURE_DELAY|\n",
      "+--------------+---------------------+\n",
      "|           ORD|              3930516|\n",
      "|           ATL|              3216786|\n",
      "|           DFW|              2693801|\n",
      "|           DEN|              2297099|\n",
      "|           LAX|              2054876|\n",
      "+--------------+---------------------+\n",
      "\n"
     ]
    }
   ],
   "source": [
    "top_airports_query = \"\"\"\n",
    "SELECT ORIGIN_AIRPORT, SUM(DEPARTURE_DELAY) AS TOTAL_DEPARTURE_DELAY\n",
    "FROM flights_table\n",
    "WHERE DEPARTURE_DELAY IS NOT NULL\n",
    "GROUP BY ORIGIN_AIRPORT\n",
    "ORDER BY TOTAL_DEPARTURE_DELAY DESC\n",
    "LIMIT 5\n",
    "\"\"\"\n",
    "\n",
    "top_airports_df = spark.sql(top_airports_query)\n",
    "top_airports_df.show()  "
   ]
  },
  {
   "cell_type": "markdown",
   "metadata": {
    "application/vnd.databricks.v1+cell": {
     "cellMetadata": {},
     "inputWidgets": {},
     "nuid": "2c9779ad-d59c-49b2-923f-f7a7b4381647",
     "showTitle": false,
     "tableResultSettingsMap": {},
     "title": ""
    }
   },
   "source": [
    "**Q7. Determine the most common reason for flight cancellations.**"
   ]
  },
  {
   "cell_type": "code",
   "execution_count": 0,
   "metadata": {
    "application/vnd.databricks.v1+cell": {
     "cellMetadata": {
      "byteLimit": 2048000,
      "rowLimit": 10000
     },
     "inputWidgets": {},
     "nuid": "bbc1dd42-dbb2-460f-a002-ef84ebacebec",
     "showTitle": false,
     "tableResultSettingsMap": {},
     "title": ""
    }
   },
   "outputs": [
    {
     "name": "stdout",
     "output_type": "stream",
     "text": [
      "+--------------------+-----------------+\n",
      "| CANCELLATION_REASON|CANCELLED_FLIGHTS|\n",
      "+--------------------+-----------------+\n",
      "|       Other Reasons|            74518|\n",
      "|High Departure Delay|              645|\n",
      "+--------------------+-----------------+\n",
      "\n"
     ]
    }
   ],
   "source": [
    "cancelled_delays_query = \"\"\"\n",
    "SELECT \n",
    "    CASE \n",
    "        WHEN DEPARTURE_DELAY > 120 THEN 'High Departure Delay'\n",
    "        WHEN ARRIVAL_DELAY > 120 THEN 'High Arrival Delay'\n",
    "        WHEN DIVERTED = 1 THEN 'Flight Diverted'\n",
    "        ELSE 'Other Reasons'\n",
    "    END AS CANCELLATION_REASON,\n",
    "    COUNT(*) AS CANCELLED_FLIGHTS\n",
    "FROM flights_table\n",
    "WHERE CANCELLED = 1\n",
    "GROUP BY CANCELLATION_REASON\n",
    "ORDER BY CANCELLED_FLIGHTS DESC\n",
    "\"\"\"\n",
    "\n",
    "cancelled_delays_df = spark.sql(cancelled_delays_query)\n",
    "cancelled_delays_df.show()"
   ]
  },
  {
   "cell_type": "markdown",
   "metadata": {
    "application/vnd.databricks.v1+cell": {
     "cellMetadata": {},
     "inputWidgets": {},
     "nuid": "3d485441-9171-4def-9d89-e30209a8f7dc",
     "showTitle": false,
     "tableResultSettingsMap": {},
     "title": ""
    }
   },
   "source": [
    "**Note :** Since I have already dropped the CANCELLATION_REASON column from my dataset because of high number of missing values in it, I tried other features for my analysis.\n",
    "\n",
    "Cancellations might be caused by significant delays, so I looked at DEPARTURE_DELAY, ARRIVAL_DELAY, AIR_TIME, and DISTANCE for flights that were cancelled.\n",
    "\n",
    "DIVERTED might provide additional insights, as many diverted flights are canceled later."
   ]
  },
  {
   "cell_type": "markdown",
   "metadata": {
    "application/vnd.databricks.v1+cell": {
     "cellMetadata": {},
     "inputWidgets": {},
     "nuid": "8298d343-b1aa-4541-a95f-c647d0a4fe95",
     "showTitle": false,
     "tableResultSettingsMap": {},
     "title": ""
    }
   },
   "source": [
    "## Visualization"
   ]
  },
  {
   "cell_type": "markdown",
   "metadata": {
    "application/vnd.databricks.v1+cell": {
     "cellMetadata": {},
     "inputWidgets": {},
     "nuid": "095c86e1-0621-40c3-bdc3-f0f616425236",
     "showTitle": false,
     "tableResultSettingsMap": {},
     "title": ""
    }
   },
   "source": [
    "**Q8. Which airlines had the highest average delays?**"
   ]
  },
  {
   "cell_type": "code",
   "execution_count": 0,
   "metadata": {
    "application/vnd.databricks.v1+cell": {
     "cellMetadata": {
      "byteLimit": 2048000,
      "rowLimit": 10000
     },
     "inputWidgets": {},
     "nuid": "901ab588-c793-4171-9080-4fe498a44fe8",
     "showTitle": false,
     "tableResultSettingsMap": {},
     "title": ""
    }
   },
   "outputs": [
    {
     "data": {
      "image/png": "[encoded data removed]"
     },
     "metadata": {
      "application/vnd.databricks.v1+output": {
       "addedWidgets": {},
       "arguments": {},
       "data": "data:image/png;base64,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\n",
       "datasetInfos": [],
       "metadata": {},
       "removedWidgets": [],
       "type": "image"
      }
     },
     "output_type": "display_data"
    }
   ],
   "source": [
    "import matplotlib.pyplot as plt\n",
    "\n",
    "# Convert the PySpark DataFrame to Pandas DataFrame\n",
    "avg_delay_pd = average_delay_df.toPandas()\n",
    "\n",
    "# Plotting the data\n",
    "plt.figure(figsize=(10, 6))\n",
    "plt.barh(avg_delay_pd['AIRLINE_NAME'], avg_delay_pd['AVG_DEPARTURE_DELAY'], color='brown')\n",
    "plt.xlabel('Average Departure Delay (Minutes)')\n",
    "plt.ylabel('Airline Name')\n",
    "plt.title('Top 10 Airlines with the Highest Average Departure Delays')\n",
    "plt.gca().invert_yaxis()  # To display the highest delay on top\n",
    "plt.show()"
   ]
  },
  {
   "cell_type": "markdown",
   "metadata": {
    "application/vnd.databricks.v1+cell": {
     "cellMetadata": {},
     "inputWidgets": {},
     "nuid": "72701254-32c5-492e-b929-eb440a8fca80",
     "showTitle": false,
     "tableResultSettingsMap": {},
     "title": ""
    }
   },
   "source": [
    "**Insights :-**\n",
    "\n",
    "**Spirit Airlines** has the highest average departure delay, followed by **United Air Lines Inc.** and **Frontier Airlines Inc.**, with delays greater than 10 minutes on average. This suggests that these airlines may face consistent issues with timely departures.\n",
    "\n",
    "**JetBlue Airways** and **Southwest Airlines Co.** also show relatively high average delays, although they are lower than the top three.\n",
    "\n",
    "**Alaska Airlines Inc.** and **Hawaiian Airlines Inc.** show relatively lower delays compared to the other airlines in the top 10, with average delays closer to 3–4 minutes.\n",
    "\n",
    "The differences between the airlines suggest that there might be operational or logistical challenges affecting certain carriers more than others.\n",
    "\n",
    "The top 5 airlines show a significant difference in their average delays compared to the lower half of the top 10, indicating that a few airlines are significantly more prone to delays."
   ]
  },
  {
   "cell_type": "markdown",
   "metadata": {
    "application/vnd.databricks.v1+cell": {
     "cellMetadata": {},
     "inputWidgets": {},
     "nuid": "42a8a32b-e6ea-4bd4-865d-eb6151a621c4",
     "showTitle": false,
     "tableResultSettingsMap": {},
     "title": ""
    }
   },
   "source": [
    "**Q9. What patterns did you observe in delays by day of the week?**"
   ]
  },
  {
   "cell_type": "code",
   "execution_count": 0,
   "metadata": {
    "application/vnd.databricks.v1+cell": {
     "cellMetadata": {
      "byteLimit": 2048000,
      "rowLimit": 10000
     },
     "inputWidgets": {},
     "nuid": "3002f05a-ea8b-411e-87fa-07e5d112c6f5",
     "showTitle": false,
     "tableResultSettingsMap": {},
     "title": ""
    }
   },
   "outputs": [],
   "source": [
    "# SQL Query to calculate average delay by day of the week\n",
    "query = \"\"\"\n",
    "SELECT DAY_OF_WEEK, AVG(DEPARTURE_DELAY) AS AVG_DEPARTURE_DELAY\n",
    "FROM flights_table\n",
    "WHERE CANCELLED = 0 AND DEPARTURE_DELAY IS NOT NULL\n",
    "GROUP BY DAY_OF_WEEK\n",
    "ORDER BY DAY_OF_WEEK\n",
    "\"\"\"\n",
    "\n",
    "avg_delay_by_day_df = spark.sql(query)"
   ]
  },
  {
   "cell_type": "code",
   "execution_count": 0,
   "metadata": {
    "application/vnd.databricks.v1+cell": {
     "cellMetadata": {
      "byteLimit": 2048000,
      "rowLimit": 10000
     },
     "inputWidgets": {},
     "nuid": "258d4e73-5deb-4fd7-b458-50152f178dea",
     "showTitle": false,
     "tableResultSettingsMap": {},
     "title": ""
    }
   },
   "outputs": [
    {
     "data": {
      "image/png": "[encoded data removed]"
     },
     "metadata": {
      "application/vnd.databricks.v1+output": {
       "addedWidgets": {},
       "arguments": {},
       "data": "data:image/png;base64,iVBORw0KGgoAAAANSUhEUgAAAl4AAAGDCAYAAAD6aR7qAAAAOXRFWHRTb2Z0d2FyZQBNYXRwbG90bGliIHZlcnNpb24zLjUuMSwgaHR0cHM6Ly9tYXRwbG90bGliLm9yZy/YYfK9AAAACXBIWXMAAAsTAAALEwEAmpwYAAAq/0lEQVR4nO3dd7hkVZnv8e+PBqHJMrRIBr0YaANCG8CEKOoomBUwgSiMoyI6jmIaQUfv3HtFBcUAKGLCMJgwjCIjGQzdgECDjEqQKI3SZJDw3j/2PloeT6gOtet09ffzPPWcvdfetddbu+qc89Zaa6+dqkKSJEmDt8qwA5AkSVpZmHhJkiR1xMRLkiSpIyZekiRJHTHxkiRJ6oiJlyRJUkdMvCStdJKckuR1Azju5UmesbyPO2xJ/jnJH5LcmuQf+th/nyRndBHb8pLk2CQfHHYcGn0mXhp57T/ZG5OsPuxYllWSQ5LcneSW9vE/SY5IsvEQYxpIEjNFffskubdNAm5NclmSzyd5SFcxDFqSnZPc1/Mar0ryjSSPHUIsqwEfBZ5ZVWtX1R/Hbd8qSSVZdQB1b9wee6OesvdMUvaj5V2/NAgmXhppSbYCngwU8LwBHH+5/7Ppw9erah1gA+CFwAOBBV0nX2ks89+QpTyHZ1fV2sB6wDOAO2jOwSOWNZ4Z5Jr2Na4DPAH4NXB6kqd3HMdGwBrAwo7rpaquBX4LPKWn+Ck052J82WkdhiYtNRMvjbpXAz8DjgX2BkiyepLFvf+kk8xJckeSB7TruyU5r93vrCSP6tn38iQHJTkfuC3JqknemeR3bSvURUle2LP/rCQfSXJD2zrzpt4WgiTrJflckmuTXJ3kg0lmTffCquruqloI7AEsAt7WU+d08b+rjfPGtrVojXbb/ZN8P8midtv3k2zW89xTknwoyZnA7cCXaBLbI9qWmSMmagHpbRVrW6zOTPKxJH8EDmnfk0OT/L7t0vpMktl9nIN7q+p3VfUG4FTgkJ46n9C+9sVJfpVk54mOkeTBSX6a5I/te/SVJOu3296e5Jvj9v94ksOnCOuxk5zbC5Ps3nOc1dr6HjPNa6yquqqq3gd8Fvi/Pcc4PMmVSW5OsiDJk9vyBya5PT3dgkm2b9/X1SY4B6snOSzJNe3jsLbsIcAl7W6Lk/x0ghBP69l+a5Ide457aHseLkvyjz3lS/KZP402yWr32R44fFzZjmNxJNk3ycVtvT9OsmVPvQ9L8pMkf0pySZKXTVRhknWSnNy+15kkLmnpVJUPHyP7oPm2/AZgB+BuYKO2/BjgQz37vRH4Ubv8GOB64PHALJqE7XJg9Xb75cB5wObA7LbspcAmNF9m9gBuAzZut70euAjYDLg/cBJNC9yq7fZvA0cCawEPAH4B/NMkr+cQ4MsTlH8A+PkSxH9hG/8GwJnAB9tt/wC8GFiTpqXlP4Hv9NRzCvB7YC6wKrBaW/a6nn226n19Pc97Xbu8D3APcEB7jNnAx4AT2njWAb4H/Mck52Af4IwJyvcF/tAubwr8EXhO+57s2q7PmSCe/9VuXx2YQ/MP/LB228bte7l+u75qe253mCS2qc7tO2haK8f2fT5wwSTH2Rm4aoLyXYD7gLXa9Ve279mqNIn3dcAa7bYfAv/c89yPAZ+YpL4P0HxBeUB7Ds4C/n2y93Pccyd6v/eh+X3bj+Yz+M/ANUCW4jO/N/Crdnle+/5sM67sDuB+7Tn9LfDw9py8Fzir3W8t4ErgNe22xwA3ANu2248FPtiez1+MvW8+fCzvx9AD8OFjUA/gSe0f/w3b9V8Db22XnwH8rmffM4FXt8ufHvun07P9EuCp7fLlwL7T1H0e8Px2+ae9/1Tauqv9478RcBdtAtdu3ws4eZLjHsLEidfrgd8sQfyv79n2nN5zMe552wE39qyfAnxg3D6nsOSJ1+97toUmuXlwT9mOwGWTxLQPEydezwbubpcPAr40bvuPgb0ninncfi8Azu1Z/y9gv3Z5N+CiKd73Sc8tTWJ+C7Buu3488I5JjrMzEydeD2vP7aaTPO9G4NHt8h7Ame3yLJqk7HGTPO93wHN61p8FXD7Z+znuuRO93/sAv+1ZX7Pd54Es+Wd+K+BeYH3grbRfmGgSubGyk3veq9f2PHcVmpbZLdvzcfq4Yx8JHNwuH0vzhexC4O2Tvcc+fCzrw65GjbK9gROr6oZ2/bi2DOBkYM0kj08zDmw7mm/h0PyRflvbRbU4yWKaFoxNeo59ZW9FSV7d07W3GHgEsGG7eZNx+/cub0nTanRtz3OPpGkFWBKbAn9ayvivGNuWZM0kRya5IsnNNK0L64/rBvqb176Ueo8xh+Yf84KeeH/Uli+J8efgpePOwZNoWrD+RpKNknyt7fK6Gfgyf33vAL5A07JE+/NL08Qx4bmtqmtoEvwXt12Z/wh8pf+XBzSvsYDFbez/2nar3dS+xvV6Yv8usG2SrWla9G6qql9MctxN2lj/Lu5lcN3YQlXd3i6uzRJ+5qvqcuBqmi7tpwCnt5vO6ikb6+7cEji857h/oknsN223PX7cZ+IVNMngmOfStMB+ZmlftDSdYQwMlgauHR/0MmBWkrF/AKvTJBGPrqpfJfkGzTftPwDfr6pb2v2upPlW/aEpqqieurYEjgaeTjPo+94k59H8wQe4lqabcczmPctX0nz737Cq7lmKl0qaAe6703Rh9ht/bwxb0LQeQNNd9VDg8VV1XZLtgHP562uBntc+yfpt7c81gZvb5QeO26f3OTfQdBXNraqrp4h5Oi/kr/+Ur6Rp8dqvj+f97zaeR1bVn5K8ADiiZ/t3gE+nGRO4G02X4VQmO7fQJHGvo/nbe/ZSvN4XAudU1W3teK530HzuFlbVfUlupH2vqurO9jP+SpqWsqkSxmtoEpOxAfTj457K+Pd/OkvzmR8b57Ujf/3ydHpb9iT++n6Nffb/LqFtf09Prapdp6jnaJrhAD9M8uyqum2KfaWlYouXRtULaLontqVpzdqOZtzH6TQD7qFpAduD5lvvcT3PPRp4fdsaliRrJXluknUmqWstmn8+iwCSvIamxWvMN4ADk2zatnQcNLahmqu2TgQ+kmTdJKukGez91OleYJpB/Q8HvkqT2Hx0CeJ/Y5LNkmwAvAf4elu+Dk0StLjddvB0cdAkrg/qeU2LaFooXpnmwoJ9gQdP9uSquq+N+WP568UNmyZ5Vh/nYFaSrZN8gqZ77v3tpi8Duyd5VrvPGmmmaNhsgsOsA9wK3JRkU+Dt4+K7k6Zb8DjgF1X1+2nCmuzcQpPEbQ8cCHxxutfXvsa05+NgmqTt3T1x30PzuVs1yfuAdcc9/Ys03X7PY+rE66vAe9NcZLIh8D6ac9iPRTTjzh403Y6w1J/502h+b6+pqrFk/oy2bD3g7LbsM8C7ksyFvwzif2m77fvAQ5K8Ks2FDasleWz7O9TrTTRd899LHxd4SEvKxEujam/g81X1+6q6buxB8834FUlWraqf07TObEIzNgSAqppPMyj4CJoxM7+l+ec1oaq6CPgIzR//PwCPpOlSGnM0zT+a82laj35I8w/z3nb7q2kGBl/U1nc8E3SJ9dgjya3ATTQD0v9IM9j7miWI/7g2pktpxveMTRx5GE1Xyw00g637mRvpcOAlaa4i+3hbth9NAvNHmoH4Z01zjIPaOH/WdvedRNPyNpkd23NwM814rXWBx1bVBQBVdSXNQOt30yQGV7bxTPQ37/00ydBNwA+Ab02wzxdo3tfpuhlh8nNLVd0BfBPYepJ6em3SvsZbgV+29e9cVSe2239M8/78D03X4J2M6wauqjNpkqJzqqq3K3G8DwLzaT6jFwDn9MY9lbYb8UPAmW0X3hP6eNqSfuZPpemK7J2U9Tyaz+qCsa7Mqvo2zVWfX2s/RxfSdOnStmg/E9iTpjXvunbfv5nfr6oK2B+4Cvhu2qtSpeVl7AoTSR1Jc1n9Z6pqyyHVfznNwPKTpttXjSRb0Fyc8cCeFpelPdb7gIdU1Sun3Xk5SDMFxHFV9dku6pM0NVu8pAFLMjvJc9quwU1puu++Pd3zNDO0Y+j+Bfjacki6NgBeCxy1PGLro77H0rTmfX26fSV1w8RLGrzQdGfdSNPVeDHNGBrNcEnWounO3JX+xrtNdaz9aLoC/6uqBj7LepIv0HTZvqXnwhFJQ2ZXoyRJUkds8ZIkSeqIiZckSVJHVogJVDfccMPaaquthh2GJEnStBYsWHBDVU14940VIvHaaqutmD9//rDDkCRJmlaSSefNs6tRkiSpIyZekiRJHTHxkiRJ6oiJlyRJUkdMvCRJkjpi4iVJktQREy9JkqSOmHhJkiR1xMRLkiSpIyZekiRJHTHxkiRJ6oiJlyRJUkdMvCRJkjqy6rADmCmOmzt32CF06uULFw47BEmSVjq2eEmSJHXExEuSJKkjJl6SJEkdMfGSJEnqiImXJElSR0y8JEmSOmLiJUmS1BETL0mSpI6YeEmSJHXExEuSJKkjJl6SJEkdMfGSJEnqiImXJElSR0y8JEmSOmLiJUmS1BETL0mSpI6YeEmSJHXExEuSJKkjJl6SJEkdGVjileSYJNcnubCnbIMkP0nym/bn/QdVvyRJ0kwzyBavY4Fnjyt7J/DfVbUN8N/tuiRJ0kphYIlXVZ0G/Glc8fOBL7TLXwBeMKj6JUmSZpqux3htVFXXtsvXARt1XL8kSdLQDG1wfVUVUJNtT7J/kvlJ5i9atKjDyCRJkgaj68TrD0k2Bmh/Xj/ZjlV1VFXNq6p5c+bM6SxASZKkQVm14/pOAPYG/k/787sd1y9pBjpu7txhh9Cply9cOOwQJA3JIKeT+CpwNvDQJFcleS1NwrVrkt8Az2jXJUmSVgoDa/Gqqr0m2fT0QdUpSZI0kzlzvSRJUkdMvCRJkjpi4iVJktQREy9JkqSOmHhJkiR1xMRLkiSpIyZekiRJHTHxkiRJ6oiJlyRJUkdMvCRJkjpi4iVJktQREy9JkqSODOwm2ZKk5e+4uXOHHUJnXr5w4bBDkJY7Ey9JklZiJvPdsqtRkiSpIyZekiRJHTHxkiRJ6oiJlyRJUkdMvCRJkjriVY1aYl4BI0nS0rHFS5IkqSMmXpIkSR0x8ZIkSeqIiZckSVJHTLwkSZI6YuIlSZLUERMvSZKkjph4SZIkdcTES5IkqSMmXpIkSR0x8ZIkSeqIiZckSVJH+rpJdpL7A5sAdwCXV9V9A41KkiRpBE2aeCVZD3gjsBdwP2ARsAawUZKfAZ+qqpM7iVKSJGkETNXidTzwReDJVbW4d0OSHYBXJXlQVX1ugPFJK6zj5s4ddgidevnChcMOQZJmvEkTr6radYptC4AFA4lIkiRpRE07uD7JE5Os1S6/MslHk2w5+NAkSZJGSz9XNX4auD3Jo4G3Ab+j6YKUJEnSEugn8bqnqgp4PnBEVX0SWGewYUmSJI2efqaTuCXJu4BXAU9Osgqw2mDDkiRJGj39tHjtAdwF7FtV1wGbAR8eaFSSJEkjaNrEq022vgms3hbdAHx7kEFJkiSNon6uatyPZk6vI9uiTYHvDDAmSZKkkdRPV+MbgScCNwNU1W+ABwwyKEmSpFHUT+J1V1X9eWwlyapADS4kSZKk0dRP4nVqkncDs5PsCvwn8L3BhiVJkjR6+km83klzg+wLgH8CflhV7xloVJIkSSOon3m8Dqiqw4GjxwqSHNiWSZIkqU/9tHjtPUHZPss5DkmSpJE3aYtXkr2AlwNbJzmhZ9M6wJ+WpdIkbwVeRzNI/wLgNVV157IcU5IkaaabqqvxLOBaYEPgIz3ltwDnL22FSTYF3gxsW1V3JPkGsCdw7NIeU5IkaUUwaeJVVVcAVwA7Dqje2UnuBtYErhlAHZIkSTNKPzPX35Lk5vZxZ5J7k9y8tBVW1dXAocDvaVrUbqqqEyeod/8k85PMX7Ro0dJWJ0mSNGP0c6/Gdapq3apaF5gNvBj41NJWmOT+wPOBrYFNgLWSvHKCeo+qqnlVNW/OnDlLW50kSdKM0c9VjX9Rje8Az1qGOp8BXFZVi6rqbuBbwE7LcDxJkqQVwrTzeCV5Uc/qKsA8YFmuQPw98IQkawJ3AE8H5i/D8SRJklYI/UygunvP8j3A5TRdhUulqn6e5HjgnPZ45wJHLe3xJEmSVhTTJl5V9ZrlXWlVHQwcvLyPK0mSNJP109U4B9gP2Kp3/6rad3BhSZK09I6bO3fYIXTq5QsXDjsE9amfrsbvAqcDJwH3DjYcSZKk0dVP4rVmVR008EgkSZJGXD/TSXw/yXMGHokkSdKI6yfxOpAm+bqjnb3+lmWZuV6SJGll1c9Vjet0EYgkSdKomzTxSvKwqvp1ku0n2l5V5wwuLEmSpNEzVYvX22imkfjIBNsK2GUgEUmSJI2oSROvqtqv/fm07sKRJEkaXVN1Nb5osm0AVfWt5R+OJEnS6Jqqq/F44Lz2AZCebQWYeEmSJC2BqRKvFwF7Ao+imb3+q1X1206ikiRJGkGTzuNVVd+pqj2BpwK/Az6S5IwkT+0sOkmSpBHSzwSqdwI3ATcDawNrDDQiSZKkETXV4PpdaLoaH0dzg+zDq2p+V4FJkiSNmqnGeJ0EnA+cAawOvDrJq8c2VtWbBxybJEnSSJkq8dqX5upFSZIkLQdTTaB6bIdxSJIkjbxJB9cnOTrJIybZtlaSfZO8YnChSZIkjZapuho/CbwvySOBC4FFNFc0bgOsCxwDfGXgEUqSJI2IqboazwNelmRtYB6wMXAHcHFVXdJNeJIkSaNjqhYvAKrqVuCUwYciSZI02vqZQFWSJEnLgYmXJElSR6ZNvNrB9ZIkSVpG/bR4fSrJL5K8Icl6A49IkiRpRE2beFXVk4FXAJsDC5Icl2TXgUcmSZI0Yvoa41VVvwHeCxwEPBX4eJJfJ3nRIIOTJEkaJf2M8XpUko8BFwO7ALtX1cPb5Y8NOD5JkqSRMe08XsAngM8C766qO8YKq+qaJO8dWGSSJEkjpp8JVJ86xbYvLd9wJEmSRte0iVeSbYD/ALaluVcjAFX1oAHGJUmSNHL6GVz/eeDTwD3A04AvAl8eZFCSJEmjqJ/Ea3ZV/TeQqrqiqg4BnjvYsCRJkkZPP4Pr70qyCvCbJG8CrgbWHmxYkiRJo6efFq8DgTWBNwM7AK8C9h5kUJIkSaOon6saf9ku3gq8ZrDhSJIkja5JE68k3wNqsu1V9byBRCRJkjSipmrxOrSzKCRJklYCkyZeVXXq2HKS2cAWVXVJJ1FJkiSNoH7u1bg7cB7wo3Z9uyQnDDguSZKkkdPPVY2HAI8DFgNU1XnA1gOLSJIkaUT1k3jdXVU3jSubdNC9JEmSJtbPBKoLk7wcmNXet/HNwFmDDUuSJGn09NPidQAwF7gL+CpwM/CWAcYkSZI0kvqZQPV24D3tQ5IkSUtpyhavJHsnOSfJbe1jfpJXdxWcJEnSKJlq5vq9aboU/wU4BwiwPfDhJFVVX+okQkmSpBExVYvXPwMvrKqTq+qmqlpcVT8FXgy8cVkqTbJ+kuOT/DrJxUl2XJbjSZIkrQimGuO1blVdPr6wqi5Psu4y1ns48KOqekmS+wFrLuPxJEmSZrypEq87lnLblJKsBzwF2Aegqv4M/HlpjydJkrSimCrxeniS8ycoD/CgZahza2AR8PkkjwYWAAdW1W3LcExJkqQZb8rEa4B1bg8cUFU/T3I48E7g33p3SrI/sD/AFltsMaBQJEmSujNp4lVVVwyozquAq6rq5+368TSJ1/j6jwKOApg3b563KJIkSSu8fmauX66q6jrgyiQPbYueDlzUdRySJEld6+dejYNwAPCV9orGS4HXDCkOSZKkzvSVeCWZDWxRVZcsj0qr6jxg3vI4liRJ0opi2q7GJLsD5wE/ate3S3LCgOOSJEkaOf2M8ToEeBywGP7SWrX1wCKSJEkaUf0kXndX1U3jyrzKUJIkaQn1M8ZrYZKXA7OSbAO8GThrsGFJkiSNnn5avA4A5gJ3AccBNwFvGWBMkiRJI2nKFq8ks4AfVNXTgPd0E5IkSdJomrLFq6ruBe5rb2wtSZKkZdDPGK9bgQuS/AT4y42sq+rNA4tKkiRpBPWTeH2rfUiSJGkZTJt4VdUXughEkiRp1E2beCW5jAnm7aqqBw0kIkmSpBHVT1dj7z0V1wBeCmwwmHAkSZJG17TzeFXVH3seV1fVYcBzBx+aJEnSaOmnq3H7ntVVaFrA+mkpkyRJUo9+EqiP9CzfA1wGvGww4UiSJI2ufhKv11bVpb0FSbYeUDySJEkjq597NR7fZ5kkSZKmMGmLV5KH0dwce70kL+rZtC7N1Y2SJElaAlN1NT4U2A1YH9i9p/wWYL8BxiRJkjSSJk28quq7Sb4PHFRV/7vDmCRJkkbSlGO8qupe4AXdhCJJkjTa+rmq8cwkRwBfB24bK6yqcwYWlSRJ0gjqJ/Harv35gZ6yAnZZ7tFIkiSNsGkTr6p6WheBSJIkjbq+bv2T5Lk0U0v8ZRqJqvrA5M+QJEnSeNNOoJrkM8AewAFAgJcCWw44LkmSpJHTz8z1O1XVq4Ebq+r9wI7AQwYbliRJ0ujpJ/G6o/15e5JNgLuBjQcXkiRJ0mjqZ4zX95OsD3wYOIfmisajBxmUJEnSKOrnqsZ/bxe/2c5kv0ZV3TTYsCRJkkbPtIlXkjWANwBPomntOiPJp6vqzkEHJ0mSNEr66Wr8Is2NsT/Rrr8c+BLN1Y2SJEnqUz+J1yOqatue9ZOTXDSogCRJkkZVP1c1npPkCWMrSR4PzB9cSJIkSaOpnxavHYCzkvy+Xd8CuCTJBUBV1aMGFp0kSdII6SfxevbAo5AkSVoJTNvVWFVXAJsDu7TLtwGrVNUV7bokSZL60M+9Gg8GDgLe1RbdD/jyIIOSJEkaRf0Mrn8h8Dyali6q6hpgnUEGJUmSNIr6Sbz+XFVFM3kqSdYabEiSJEmjqZ/E6xtJjgTWT7IfcBLeq1GSJGmJ9XOvxkOT7ArcDDwUeF9V/WTgkUmSJI2Yfu7VuD6wGPgG8D/eIFuSJGnpTJp4JVkdOBJ4AXApTbfklkm+Dby+qv7cSYSSJEkjYqoxXu8BVgM2r6rtq2o7mlnrVwX+rYPYJEmSRspUideLgP2q6paxgnb5DTRTTEiSJGkJTJV43VdVt48vrKpbaaeWkCRJUv+mGlxfSe4PZIJt9w0oHkmSpJE1VeK1HrCAiRMvW7wkSZKW0KSJV1VtNciKk8wC5gNXV9Vug6xLkiRpJuhn5vpBORC4eIj1S5IkdWooiVeSzYDnAp8dRv2SJEnDMKwWr8OAdzDFIP0k+yeZn2T+okWLOgtMkiRpUPpKvJI8Kclr2uU5SbZe2gqT7AZcX1ULptqvqo6qqnlVNW/OnDlLW50kSdKMMW3ileRg4CDgXW3RasCXl6HOJwLPS3I58DVglyTLcjxJkqQVQj8tXi8EngfcBlBV1wDrLG2FVfWuqtqsvWpyT+CnVfXKpT2eJEnSiqKfxOvPVVW0c3clWWuwIUmSJI2mfhKvbyQ5Elg/yX7AScDRy6PyqjrFObwkSdLKYqqZ6wGoqkOT7ArcDDwUeF9V/WTgkUmSJI2YaRMvgDbRMtmSJElaBtMmXklu4e/vzXgTze1+3lZVlw4iMEmSpFHTT4vXYcBVwHE0N8zeE3gwcA5wDLDzgGKTJEkaKf0Mrn9eVR1ZVbdU1c1VdRTwrKr6OnD/AccnSZI0MvpJvG5P8rIkq7SPlwF3ttvGd0FKkiRpEv0kXq8AXgVcD/yhXX5lktnAmwYYmyRJ0kjpZzqJS4HdJ9l8xvINR5IkaXT1c1XjGsBrgbnAGmPlVbXvAOOSJEkaOf10NX4JeCDwLOBUYDPglkEGJUmSNIr6Sbz+V1X9G3BbVX0BeC7w+MGGJUmSNHr6Sbzubn8uTvIIYD3gAYMLSZIkaTT1M4HqUUnuD7wXOAFYG/i3gUYlSZI0gqZMvJKsAtxcVTcCpwEP6iQqSZKkETRlV2NV3Qe8o6NYJEmSRlo/Y7xOSvKvSTZPssHYY+CRSZIkjZh+xnjt0f58Y09ZYbejJEnSEuln5vqtuwhEkiRp1E3b1ZhkzSTvTXJUu75Nkt0GH5okSdJo6WeM1+eBPwM7tetXAx8cWESSJEkjqp/E68FV9f9oJ1KtqtuBDDQqSZKkEdRP4vXnJLNpBtST5MHAXQONSpIkaQT1c1XjIcCPgM2TfAV4IrDPAGOSJEkaSf1c1XhikgXAE2i6GA+sqhsGHpkkSdKImTbxSvI94DjghKq6bfAhSZIkjaZ+xngdCjwZuCjJ8UlekmSNAcclSZI0cvrpajwVODXJLGAXYD/gGGDdAccmSZI0UvoZXE97VePuNLcP2h74wiCDkiRJGkX9jPH6BvA4misbjwBOrar7Bh2YJEnSqOmnxetzwF5VdS9Akicl2auq3jjN8yRJktSjnzFeP07ymCR7AS8DLgO+NfDIJEmSRsykiVeShwB7tY8bgK8DqaqndRSbJEnSSJmqxevXwOnAblX1W4Akb+0kKkmSpBE01TxeLwKuBU5OcnSSp+PNsSVJkpbapIlXVX2nqvYEHgacDLwFeECSTyd5ZkfxSZIkjYxpZ66vqtuq6riq2h3YDDgXOGjgkUmSJI2Yfm4Z9BdVdWNVHVVVTx9UQJIkSaNqiRIvSZIkLT0TL0mSpI6YeEmSJHXExEuSJKkjJl6SJEkdMfGSJEnqiImXJElSR0y8JEmSOmLiJUmS1BETL0mSpI6YeEmSJHWk88QryeZJTk5yUZKFSQ7sOgZJkqRhWHUIdd4DvK2qzkmyDrAgyU+q6qIhxCJJktSZzlu8quraqjqnXb4FuBjYtOs4JEmSujbUMV5JtgIeA/x8gm37J5mfZP6iRYs6j02SJGl5G1rilWRt4JvAW6rq5vHbq+qoqppXVfPmzJnTfYCSJEnL2VASrySr0SRdX6mqbw0jBkmSpK4N46rGAJ8DLq6qj3ZdvyRJ0rAMo8XricCrgF2SnNc+njOEOCRJkjrV+XQSVXUGkK7rlSRJGjZnrpckSeqIiZckSVJHTLwkSZI6YuIlSZLUERMvSZKkjph4SZIkdcTES5IkqSMmXpIkSR0x8ZIkSeqIiZckSVJHTLwkSZI6YuIlSZLUERMvSZKkjph4SZIkdcTES5IkqSMmXpIkSR0x8ZIkSeqIiZckSVJHTLwkSZI6YuIlSZLUERMvSZKkjph4SZIkdcTES5IkqSMmXpIkSR0x8ZIkSeqIiZckSVJHTLwkSZI6YuIlSZLUERMvSZKkjph4SZIkdcTES5IkqSMmXpIkSR0x8ZIkSeqIiZckSVJHTLwkSZI6YuIlSZLUERMvSZKkjph4SZIkdcTES5IkqSMmXpIkSR0x8ZIkSeqIiZckSVJHTLwkSZI6YuIlSZLUERMvSZKkjph4SZIkdcTES5IkqSMmXpIkSR0ZSuKV5NlJLkny2yTvHEYMkiRJXes88UoyC/gk8I/AtsBeSbbtOg5JkqSuDaPF63HAb6vq0qr6M/A14PlDiEOSJKlTw0i8NgWu7Fm/qi2TJEkaaamqbitMXgI8u6pe166/Cnh8Vb1p3H77A/u3qw8FLuk00O5sCNww7CBWEJ6r/nie+ue56o/nqX+eq/6N8rnasqrmTLRh1a4jAa4GNu9Z36wt+xtVdRRwVFdBDUuS+VU1b9hxrAg8V/3xPPXPc9Ufz1P/PFf9W1nP1TC6Gn8JbJNk6yT3A/YEThhCHJIkSZ3qvMWrqu5J8ibgx8As4JiqWth1HJIkSV0bRlcjVfVD4IfDqHsGGvnu1OXIc9Ufz1P/PFf98Tz1z3PVv5XyXHU+uF6SJGll5S2DJEmSOmLiNUBJKsmXe9ZXTbIoyfeHGddMlOQfkpzXPq5LcnXP+v2GHd9MkORjSd7Ss/7jJJ/tWf9Ikn/p4zhbJblwQGHOCFN8nhYnuWjY8c1kSe7tOXfnJdlqgn1+mGT97qObOZK8J8nCJOe35+nxU+y7T5JNuoxvJliSc7QyGcoYr5XIbcAjksyuqjuAXZlg6gxBVf0R2A4gySHArVV16DBjmoHOBF4GHJZkFZo5cNbt2b4T8NZhBDbTTPZ5apMIv/hM7Y6q2m6iDUlCM0TlOd2GNLMk2RHYDdi+qu5KsiEw1RfEfYALgWs6CG9GWIpztNKwxWvwfgg8t13eC/jq2IYkGyT5Tvtt4GdJHtWWH5LkmCSnJLk0yZuHEPfQJTm2nXB3bP3WnuW3J/lle+7eP5wIO3cWsGO7PJfmD/ktSe6fZHXg4UAlOTXJgrZFbGOAJDsk+VWSXwFvHEr0M8esJEe338RPTDIboP19m9cub5jk8qFGOUO0LaSXJPkizWdu8ySXt/9IV1YbAzdU1V0AVXVDVV2T5H3t36ULkxyVxkuAecBX2laf2UONvDuTnaO/fHaSzEtySru80vzfM/EavK8BeyZZA3gU8POebe8Hzq2qRwHvBr7Ys+1hwLNo7m15cJLVOop3xkvyTGAbmnOzHbBDkqcMNagOVNU1wD1JtqBp3Tqb5vO0I80f9ouBjwEvqaodgGOAD7VP/zxwQFU9uvPAZ55tgE9W1VxgMfDi4YYz48zu6Wb8dlu2DfCpqppbVVcMM7gZ4kSaBPR/knwqyVPb8iOq6rFV9QhgNrBbVR0PzAdeUVXbtb0fK4PJztFUVor/e3Y1DlhVnd92b+zF30+h8STaP/pV9dN2XMpY19EP2m8KdyW5HtiI5r6Wgme2j3Pb9bVp/jGcNrSIunMWTdK1E/BRmvuc7gTcRNON/UzgJ02PELOAa9uxOOtX1dj5+RLwj92GPaNcVlXntcsLgK2GF8qM9Dddje3fryuq6mdDi2iGqapbk+wAPBl4GvD1JO+kaYF+B7AmsAGwEPje8CIdninO0VRWiv97Jl7dOAE4FNgZ+Ic+n3NXz/K9rJzv1T20rbLtmKax8QEB/qOqjhxWYEN0Jk2i9Uiabp8rgbcBNwOnAJtW1Y69T1jZB0FPYPzv1ljXz18+b8AanUY089027ABmmqq6l+Z37pQkFwD/RNOrMa+qrmzHFq7Un6MJztHeTP17tlL837OrsRvHAO+vqgvGlZ8OvAIgyc40/eE3dxvajHY5sEO7/DxgrNn5x8C+SdYGSLJpkgd0H95QnEUzYPVPVXVvVf0JWJ+mu/GrwJx2UCtJVksyt6oWA4uTPKk9xiu6D3uFcDl//by9ZIr9tJJL8tAk2/QUbQdc0i7f0P5t6v0M3QKs01F4M8Ik5+gK/vb3bKXs5h/JbHKmqaqrgI9PsOkQ4Jgk5wO303wb0F8dDXy3HRD+I9pv3VV1YpKHA2e3XWq3Aq8Erh9WoB26gOZqxuPGla1dVde3A3k/nmQ9mt/vw2i6O15D81krmrEX+nuHAt9Isj/wg2EHoxltbeATbWvyPcBvgf1pxgxeCFxHc1/iMccCn0lyB7DjSjLOa7Jz9HDgc0n+naY1bKXjzPWSJEkdsatRkiSpIyZekiRJHTHxkiRJ6oiJlyRJUkdMvCRJkjpi4iVpYJLc2956ZmF7r8i3tZPhDrLOD7f1fXhc+c5JdupZ/5t7gS5hHQcmOaxn/cgkJ/WsH5BkoilkpjvuIUn+dWlikrRicB4vSYP0l9vPtJPcHgesCxw8wDr3BzZoZ83utTPNnG9nLYc6zuRvJ6J9NM3Nt2e19e4EfHc51CNpxNjiJakTVXU9TVL0pjS2SnJ6knPax04ASb6Y5AVjz0vylSTP7z1W+/wPJ7kwyQVJ9mjLT6CZuHHBWFlbvhXweuCtbQvck9tNT0lyVpJLe1u/krw9yS+TnJ/k/RO8nPOAhySZ3U5We0db9sh2+07AmUkenORHSRa0r/Vh7fHnJPlmW8cvkzxxfAVJ9kvyX0lmj98macVli5ekzlTVpUlmAQ+gudPArlV1Z3trka8C84DPAW8FvtMmNTvx93d1eBHNLUgeTTOT/y+TnFZVz0tya+9Nntt6L0/yGeDWqjoUIMlrgY1pblb/MJp7qh6f5Jk0N11/HM19QU9I8pSem4xTVfckORd4LM29Hn8O/AbYKckimsmpr0zy38Drq+o3SR4PfArYBTgc+FhVnZFkC5rbYD187PhJ3gTsCrygvWmwpBFh4iVpWFYDjkiyHc0NcR8CUFWnJvlUkjk093L7ZlXdM+65TwK+2nbr/SHJqTRJ0AlLGMN3quo+4KIkG7Vlz2wf57bra9MkYqeNe+5ZNEnhbOBsmsTr3cAi4Kz2fn07Af/Z3toKYPX25zOAbXvK1x279yjwapqbn7+gqu5ewtcjaYYz8ZLUmSQPokmyrqcZ5/UHmlarVYA7e3b9Is39N/ekuc/koPS2JqXn539U1ZHTPPdMmu7LNYBP0iRc27Y/z6J5TYvHt761VgGeUFW9r5k2EbuApjVvM+Cy/l+KpBWBY7wkdaJtwfoMcEQ1N4ldD7i2bXF6FTCrZ/djgbcAVNVFExzudGCPJLPa4z4F+MU0IdwCrNNHqD8G9h1rgUqyaXthwHhnA08A5lTV9e1rWgQ8Hzizqm4GLkvy0vY4SfLo9rknAgeMHaht9RtzLvBPNF2cm/QRr6QViImXpEGaPTadBHASTcIxNlj9U8DeSX5FM8bqtrEnVdUfgIuBz09y3G8D5wO/An4KvKOqrpsmlu8BLxw3uP7vVNWJNFdfnp3kAuB4JkjYqupGmkRrYU/x2TTj137Vrr8CeG37GhfSJGUAbwbmtYP3L6JpOes99hnAvwI/SLLhNK9L0gokzZc0SZo5kqxJ0+W2fVXdNOx4JGl5scVL0oyS5Bk0rV2fMOmSNGps8ZIkSeqILV6SJEkdMfGSJEnqiImXJElSR0y8JEmSOmLiJUmS1BETL0mSpI78f3AJkRU3KD8KAAAAAElFTkSuQmCC\n",
       "datasetInfos": [],
       "metadata": {},
       "removedWidgets": [],
       "type": "image"
      }
     },
     "output_type": "display_data"
    }
   ],
   "source": [
    "avg_delay_by_day_pd = avg_delay_by_day_df.toPandas()\n",
    "\n",
    "plt.figure(figsize=(10, 6))\n",
    "plt.bar(avg_delay_by_day_pd['DAY_OF_WEEK'], avg_delay_by_day_pd['AVG_DEPARTURE_DELAY'], color='brown')\n",
    "plt.xlabel('Day of the Week')\n",
    "plt.ylabel('Average Departure Delay (Minutes)')\n",
    "plt.title('Average Departure Delay by Day of the Week')\n",
    "plt.xticks(ticks=range(1, 8), labels=['Mon', 'Tue', 'Wed', 'Thu', 'Fri', 'Sat', 'Sun'])\n",
    "plt.show()"
   ]
  },
  {
   "cell_type": "markdown",
   "metadata": {
    "application/vnd.databricks.v1+cell": {
     "cellMetadata": {},
     "inputWidgets": {},
     "nuid": "24508578-bb2f-4f55-bf46-5c56f454b790",
     "showTitle": false,
     "tableResultSettingsMap": {},
     "title": ""
    }
   },
   "source": [
    "**Insights :-**\n",
    "\n",
    "**Monday** shows the highest average departure delay, with a noticeable peak, suggesting that flights on Mondays tend to experience longer delays than on other days.\n",
    "\n",
    "The delay times for **Tuesday** through **Friday** are relatively similar, all showing moderate delays, indicating a fairly consistent trend across these days.\n",
    "\n",
    "Both **Saturday** and **Sunday** show slightly lower average delays compared to weekdays, with Sunday having a delay time almost on par with Friday.\n",
    "\n",
    "**Thursday** and **Friday** have a similar average delay, which might be indicative of the operational load during the end of the workweek, possibly due to busier travel times."
   ]
  },
  {
   "cell_type": "markdown",
   "metadata": {
    "application/vnd.databricks.v1+cell": {
     "cellMetadata": {},
     "inputWidgets": {},
     "nuid": "23d107e7-b27a-4831-8752-ae39419cccbd",
     "showTitle": false,
     "tableResultSettingsMap": {},
     "title": ""
    }
   },
   "source": [
    "## Summary"
   ]
  },
  {
   "cell_type": "markdown",
   "metadata": {
    "application/vnd.databricks.v1+cell": {
     "cellMetadata": {},
     "inputWidgets": {},
     "nuid": "b085a142-27b6-4e3e-843d-e00c01683cec",
     "showTitle": false,
     "tableResultSettingsMap": {},
     "title": ""
    }
   },
   "source": [
    "* Airlines with high average delays (Spirit, United, and Frontier) tend to experience more delays on average, which is consistent across both the visualizations and SQL queries.\n",
    "\n",
    "* The top airports with the most delayed departures are major hub airports like ORD, ATL, and DFW, indicating that larger airports with higher traffic volumes may face more operational challenges and delays.\n",
    "\n",
    "* Monday sees the highest delays, potentially due to higher demand after the weekend, while weekends tend to show slightly lower delays.\n",
    "\n",
    "* Flight cancellations are predominantly driven by reasons other than delays, with Other Reasons contributing the largest share of cancellations, while high delays account for only a small portion."
   ]
  }
 ],
 "metadata": {
  "application/vnd.databricks.v1+notebook": {
   "dashboards": [],
   "environmentMetadata": null,
   "language": "python",
   "notebookMetadata": {
    "pythonIndentUnit": 2
   },
   "notebookName": "PySpark Assignment",
   "widgets": {}
  },
  "kernelspec": {
   "display_name": "Python 3 (ipykernel)",
   "language": "python",
   "name": "python3"
  },
  "language_info": {
   "codemirror_mode": {
    "name": "ipython",
    "version": 3
   },
   "file_extension": ".py",
   "mimetype": "text/x-python",
   "name": "python",
   "nbconvert_exporter": "python",
   "pygments_lexer": "ipython3",
   "version": "3.11.1"
  }
 },
 "nbformat": 4,
 "nbformat_minor": 1
}
